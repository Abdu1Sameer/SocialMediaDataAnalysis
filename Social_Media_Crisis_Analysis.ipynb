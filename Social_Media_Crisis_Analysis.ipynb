{
  "cells": [
    {
      "cell_type": "markdown",
      "id": "86e97716",
      "metadata": {
        "id": "86e97716"
      },
      "source": [
        "## Task 1: Social Media Data Extraction & Preprocessing\n",
        "\n",
        "This task extracts posts from Twitter and Reddit APIs, filters relevant posts using predefined keywords, and performs text cleaning."
      ]
    },
    {
      "cell_type": "code",
      "source": [
        "!pip install -q emoji\n",
        "!pip install -q praw\n",
        "!pip install -q contractions\n",
        "!pip install -q langdetect"
      ],
      "metadata": {
        "id": "dlXcAzWLU7QM"
      },
      "id": "dlXcAzWLU7QM",
      "execution_count": 114,
      "outputs": []
    },
    {
      "cell_type": "code",
      "execution_count": 115,
      "id": "72579f66",
      "metadata": {
        "colab": {
          "base_uri": "https://localhost:8080/"
        },
        "id": "72579f66",
        "outputId": "37ba904d-de2a-4171-dfed-e4b7bf7bbfaf"
      },
      "outputs": [
        {
          "output_type": "stream",
          "name": "stderr",
          "text": [
            "[nltk_data] Downloading package punkt to /root/nltk_data...\n",
            "[nltk_data]   Package punkt is already up-to-date!\n",
            "[nltk_data] Downloading package stopwords to /root/nltk_data...\n",
            "[nltk_data]   Package stopwords is already up-to-date!\n",
            "[nltk_data] Downloading package wordnet to /root/nltk_data...\n",
            "[nltk_data]   Package wordnet is already up-to-date!\n",
            "[nltk_data] Downloading package punkt_tab to /root/nltk_data...\n",
            "[nltk_data]   Package punkt_tab is already up-to-date!\n"
          ]
        }
      ],
      "source": [
        "import pandas as pd\n",
        "import re\n",
        "import spacy\n",
        "from nltk.tokenize import word_tokenize\n",
        "from nltk.corpus import stopwords\n",
        "from geopy.geocoders import Nominatim\n",
        "from geopy.exc import GeocoderTimedOut\n",
        "import folium\n",
        "from folium.plugins import HeatMap\n",
        "from textblob import TextBlob\n",
        "from sklearn.feature_extraction.text import TfidfVectorizer\n",
        "import matplotlib.pyplot as plt\n",
        "import seaborn as sns\n",
        "from langdetect import detect\n",
        "import warnings\n",
        "import emoji\n",
        "from sklearn.feature_extraction.text import TfidfVectorizer\n",
        "from sklearn.metrics.pairwise import cosine_similarity\n",
        "from textblob import TextBlob\n",
        "import praw\n",
        "import contractions\n",
        "import time\n",
        "import nltk\n",
        "import plotly.express as px\n",
        "\n",
        "nltk.download('punkt')\n",
        "nltk.download('stopwords')\n",
        "nltk.download(\"wordnet\")\n",
        "nltk.download('punkt_tab')\n",
        "warnings.filterwarnings('ignore')"
      ]
    },
    {
      "cell_type": "code",
      "source": [
        "def is_english(text):\n",
        "    try:\n",
        "        return detect(text) == \"en\"\n",
        "    except:\n",
        "        return False  # Assume non-English if detection fails\n",
        "\n",
        "# Define Keywords for Filtering\n",
        "keywords = [\n",
        "    \"depressed\", \"addiction help\", \"overwhelmed\", \"suicidal\", \"relapse\", \"hopeless\",\n",
        "    \"self-harm\", \"anxiety attack\", \"panic disorder\", \"feeling worthless\"\n",
        "]\n",
        "\n",
        "# Define High-Risk Crisis Terms\n",
        "high_risk_terms = [\n",
        "    \"suicide\", \"self harm\", \"kill myself\", \"die\", \"hopeless\",\n",
        "    \"i don't want to live\", \"end my life\", \"can't go on\"\n",
        "]"
      ],
      "metadata": {
        "id": "bIANRpueTFPA"
      },
      "id": "bIANRpueTFPA",
      "execution_count": 116,
      "outputs": []
    },
    {
      "cell_type": "code",
      "source": [
        "# Reddit API Authentication\n",
        "class RedditAPI:\n",
        "    def __init__(self, client_id, client_secret, user_agent):\n",
        "        self.reddit = praw.Reddit(\n",
        "            client_id=client_id, client_secret=client_secret, user_agent=user_agent,check_for_async=False\n",
        "        )\n",
        "\n",
        "    def extract_posts(self, subreddits, limit=100):\n",
        "        data = []\n",
        "        for sub in subreddits:\n",
        "            subreddit = self.reddit.subreddit(sub)\n",
        "            for post in subreddit.hot(limit=limit):\n",
        "                content = (post.title + \" \" + post.selftext).lower()\n",
        "                if is_english(post.selftext.lower()) and any(keyword in content for keyword in keywords):\n",
        "                    data.append({\n",
        "                        \"Post_ID\": post.id,\n",
        "                        \"Timestamp\": post.created_utc,\n",
        "                        \"Content\": post.title + \" \" + post.selftext,\n",
        "                        \"Likes\": post.score,\n",
        "                        \"Comments\": post.num_comments,\n",
        "                        \"Shares\": post.num_crossposts\n",
        "                    })\n",
        "        return pd.DataFrame(data)"
      ],
      "metadata": {
        "id": "JvCoHkBwRg8k"
      },
      "id": "JvCoHkBwRg8k",
      "execution_count": 117,
      "outputs": []
    },
    {
      "cell_type": "code",
      "source": [
        "# Text Preprocessing\n",
        "class Preprocessing:\n",
        "    def __init__(self):\n",
        "        self.stop_words = set(stopwords.words(\"english\"))\n",
        "\n",
        "    def clean_text(self, text):\n",
        "        text = emoji.replace_emoji(text, replace=\"\")  # Remove emojis\n",
        "        text = contractions.fix(text)\n",
        "        text = text.lower()  # Convert to lowercase\n",
        "        text = re.sub(r\"http\\S+|www\\S+\", \"\", text)\n",
        "        text = re.sub(r\"[^\\w\\s.,!?]\", \"\", text)\n",
        "        tokens = word_tokenize(text.lower())\n",
        "        tokens = [word for word in tokens if word not in self.stop_words]\n",
        "        return \" \".join(tokens)\n",
        "\n",
        "# Apply Preprocessing\n",
        "def preprocess_data(df):\n",
        "    processor = Preprocessing()\n",
        "    df[\"Cleaned_Content\"] = df[\"Content\"].apply(lambda x: processor.clean_text(x))\n",
        "    df.to_csv(\"filtered_social_media_posts_readyfor_nlp.csv\", index=False)\n",
        "    return df"
      ],
      "metadata": {
        "id": "TGwUxDcSTHzp"
      },
      "id": "TGwUxDcSTHzp",
      "execution_count": 118,
      "outputs": []
    },
    {
      "cell_type": "markdown",
      "id": "ec77916d",
      "metadata": {
        "id": "ec77916d"
      },
      "source": [
        "## Task 2: Sentiment & Crisis Risk Classification\n",
        "\n",
        "This task classifies posts using sentiment analysis and assigns risk levels based on crisis-related terms."
      ]
    },
    {
      "cell_type": "code",
      "execution_count": 119,
      "id": "814c29de",
      "metadata": {
        "id": "814c29de"
      },
      "outputs": [],
      "source": [
        "# Sentiment & Risk Classification\n",
        "class SentimentRiskClassifier:\n",
        "    def __init__(self, high_risk_terms):\n",
        "        self.vectorizer = TfidfVectorizer()\n",
        "        self.high_risk_terms = high_risk_terms\n",
        "        self.term_matrix = self.vectorizer.fit_transform(high_risk_terms)\n",
        "\n",
        "    def classify_sentiment(self, text):\n",
        "        analysis = TextBlob(text)\n",
        "        if analysis.sentiment.polarity > 0:\n",
        "            return \"Positive\"\n",
        "        elif analysis.sentiment.polarity == 0:\n",
        "            return \"Neutral\"\n",
        "        else:\n",
        "            return \"Negative\"\n",
        "\n",
        "    def detect_risk(self, text):\n",
        "        text_vector = self.vectorizer.transform([text])\n",
        "        similarity_scores = cosine_similarity(text_vector, self.term_matrix).flatten()\n",
        "        max_similarity = max(similarity_scores)\n",
        "\n",
        "        if max_similarity > 0.3:  # Set threshold for high-risk detection\n",
        "            return \"High-Risk\"\n",
        "        elif max_similarity > -0.02:\n",
        "            return \"Moderate Concern\"\n",
        "        else:\n",
        "            return \"Low Concern\"\n",
        "\n",
        "# Apply Sentiment & Risk Classification\n",
        "def classify_data(df, high_risk_terms):\n",
        "    classifier = SentimentRiskClassifier(high_risk_terms)\n",
        "    df[\"Sentiment\"] = df[\"Cleaned_Content\"].apply(classifier.classify_sentiment)\n",
        "    df[\"Risk_Level\"] = df[\"Cleaned_Content\"].apply(classifier.detect_risk)\n",
        "    return df"
      ]
    },
    {
      "cell_type": "markdown",
      "id": "91641b20",
      "metadata": {
        "id": "91641b20"
      },
      "source": [
        "## Task 3: Crisis Geolocation & Mapping\n",
        "\n",
        "This task extracts and geocodes locations using NLP and generates a heatmap of crisis-related posts."
      ]
    },
    {
      "cell_type": "code",
      "execution_count": 120,
      "id": "3a9f9514",
      "metadata": {
        "id": "3a9f9514"
      },
      "outputs": [],
      "source": [
        "# Geolocation & Mapping\n",
        "class Geolocation:\n",
        "    def __init__(self):\n",
        "        self.nlp = spacy.load(\"en_core_web_sm\")\n",
        "        self.geolocator = Nominatim(user_agent=\"geo_crisis_locator\", timeout=5)\n",
        "\n",
        "    def extract_location(self, text):\n",
        "        doc = self.nlp(text)\n",
        "        locations = [ent.text for ent in doc.ents if ent.label_ == \"GPE\"]\n",
        "        return locations[0] if locations else \"Not_Mentioned\"\n",
        "\n",
        "    def geocode_location(self, location):\n",
        "        try:\n",
        "            time.sleep(1)\n",
        "            geo = self.geolocator.geocode(location)\n",
        "            if geo:\n",
        "                return (geo.latitude, geo.longitude)\n",
        "        except GeocoderTimedOut:\n",
        "            return None\n",
        "        return None\n",
        "\n",
        "# Apply Geolocation\n",
        "def geolocate_data(df):\n",
        "    geo = Geolocation()\n",
        "    df[\"Location\"] = df[\"Cleaned_Content\"].apply(geo.extract_location)\n",
        "    df[\"Coordinates\"] = df[\"Location\"].apply(lambda loc: geo.geocode_location(loc) if loc != \"Not_Mentioned\" else None)\n",
        "    return df\n",
        "\n",
        "# Generate Heatmap\n",
        "def generate_heatmap_folium(df):\n",
        "    geo_df = df[df[\"Coordinates\"].notnull()]\n",
        "    heat_data = [[coord[0], coord[1]] for coord in geo_df[\"Coordinates\"] if coord is not None]\n",
        "    m = folium.Map(location=[20, 0], zoom_start=2)\n",
        "    HeatMap(heat_data).add_to(m)\n",
        "    display(m)\n",
        "    m.save(\"crisis_heatmap.html\")\n",
        "\n",
        "# Plot Top 5 Locations\n",
        "def plot_top_locations(df):\n",
        "    location_counts = df[df[\"Location\"] != \"Not_Mentioned\"][\"Location\"].value_counts().head(5)\n",
        "    location_counts.plot(kind=\"bar\", color=\"skyblue\")\n",
        "    plt.title(\"Top 5 Crisis-Related Zones\")\n",
        "    plt.xlabel(\"Location\")\n",
        "    plt.ylabel(\"Number of Posts\")\n",
        "    plt.xticks(rotation=45, ha=\"right\")\n",
        "    plt.tight_layout()\n",
        "    plt.savefig(\"top_5_crisis_zones.png\", dpi=300)\n",
        "    plt.show()"
      ]
    },
    {
      "cell_type": "code",
      "source": [
        "def main():\n",
        "    # Reddit API Setup\n",
        "    read_limit=1000\n",
        "    reddit = RedditAPI(client_id=\"Uqp08_LdBkijhlhfP14v4w\", client_secret=\"wBvcZEeRlCgb0iT2JIK7VzbI6W4RkA\", user_agent=\"MyRedditApp/1.0 by u/Creepy_Cut2456\")\n",
        "    reddit_data = reddit.extract_posts(subreddits=[\"mentalhealth\", \"depression\", \"suicidewatch\", \"addiction\", \"StopDrinking\"], limit=read_limit)\n",
        "\n",
        "    # Combine Data\n",
        "    df =reddit_data\n",
        "\n",
        "    # Preprocess Data\n",
        "    df = preprocess_data(df)\n",
        "\n",
        "    # Classify Sentiment & Risk\n",
        "    df = classify_data(df,high_risk_terms)\n",
        "\n",
        "    # Geocode & Extract Locations\n",
        "    df = geolocate_data(df)\n",
        "\n",
        "    # Save Cleaned Data\n",
        "    df.to_csv(\"filtered_social_media_posts.csv\", index=False)\n",
        "\n",
        "    # Generate Visuals\n",
        "    # Plot Sentiment Distribution\n",
        "    plt.figure(figsize=(8, 5))\n",
        "    df[\"Sentiment\"].value_counts().plot(kind=\"bar\", color=[\"green\", \"gray\", \"red\"])\n",
        "    plt.title(\"Distribution of Sentiment in Posts\")\n",
        "    plt.xlabel(\"Sentiment\")\n",
        "    plt.ylabel(\"Number of Posts\")\n",
        "    plt.xticks(rotation=0)\n",
        "    plt.show()\n",
        "\n",
        "    # Plot Risk Level Distribution\n",
        "    plt.figure(figsize=(8, 5))\n",
        "    df[\"Risk_Level\"].value_counts().plot(kind=\"bar\", color=[\"red\", \"orange\", \"green\"])\n",
        "    plt.title(\"Distribution of Risk Levels in Posts\")\n",
        "    plt.xlabel(\"Risk Level\")\n",
        "    plt.ylabel(\"Number of Posts\")\n",
        "    plt.xticks(rotation=0)\n",
        "    plt.show()\n",
        "\n",
        "    plot_top_locations(df)\n",
        "    # generate heatmap\n",
        "    generate_heatmap_folium(df)"
      ],
      "metadata": {
        "id": "_H_TLvSaUMhn"
      },
      "id": "_H_TLvSaUMhn",
      "execution_count": 121,
      "outputs": []
    },
    {
      "cell_type": "code",
      "source": [
        "if __name__ == \"__main__\":\n",
        "    main()"
      ],
      "metadata": {
        "colab": {
          "base_uri": "https://localhost:8080/",
          "height": 1000
        },
        "id": "YBS-g7o2UTVY",
        "outputId": "37dc0e6a-ef59-4750-8f7c-0b2df949300c"
      },
      "id": "YBS-g7o2UTVY",
      "execution_count": 122,
      "outputs": [
        {
          "output_type": "display_data",
          "data": {
            "text/plain": [
              "<Figure size 800x500 with 1 Axes>"
            ],
            "image/png": "iVBORw0KGgoAAAANSUhEUgAAArcAAAHWCAYAAABt3aEVAAAAOnRFWHRTb2Z0d2FyZQBNYXRwbG90bGliIHZlcnNpb24zLjEwLjAsIGh0dHBzOi8vbWF0cGxvdGxpYi5vcmcvlHJYcgAAAAlwSFlzAAAPYQAAD2EBqD+naQAARolJREFUeJzt3Xd4FWX+///XSSUkJCEYEkpIWHqQJu5CKIIQiTRhiSsg0qQoG0SqGhvF1SAqTRHU7y5FYRFQQEPvrPQiikhVICgpIJBQJIXcvz/85Xw8hpIDJwTG5+O6znUx99wz93sOZ+CVyT1zbMYYIwAAAMAC3Iq6AAAAAMBVCLcAAACwDMItAAAALINwCwAAAMsg3AIAAMAyCLcAAACwDMItAAAALINwCwAAAMsg3AIAAMAyCLfAn8CoUaNks9luy1jNmzdX8+bN7cvr16+XzWbTggULbsv4vXr1UkRExG0Z62ZduHBBffv2VWhoqGw2mwYPHlzUJTnl2LFjstlsmjFjRlGX4lJ//OwCuDsRboG7zIwZM2Sz2eyvYsWKqWzZsoqJidHkyZN1/vx5l4xz8uRJjRo1Snv27HHJ/lzpTq6tIN544w3NmDFDAwYM0Mcff6zu3btfs29WVpYmTZqkevXqyd/fX4GBgapZs6b69++vAwcOFGqdc+bM0cSJEwt1jMK0dOlSjRo1qsjGv9q5WrVqVQ0cOFCpqakuH+/SpUsaNWqU1q9f7/J9A3cTj6IuAMDNGTNmjCpWrKjs7GylpKRo/fr1Gjx4sMaPH68vvvhCtWvXtvd9+eWX9cILLzi1/5MnT2r06NGKiIhQ3bp1C7zdypUrnRrnZlyvto8++ki5ubmFXsOtWLt2rRo2bKiRI0fesG9sbKyWLVumrl27ql+/fsrOztaBAweUmJioRo0aqXr16oVW55w5c/Tdd9/lu7IcHh6uX3/9VZ6enoU2tissXbpUU6ZMKXDALazPbt65evnyZX311VeaOnWqli5dqu+++07Fixd32TiXLl3S6NGjJYkr0PhTI9wCd6nWrVvr/vvvty/Hx8dr7dq1ateunR555BHt379fPj4+kiQPDw95eBTu6X7p0iUVL15cXl5ehTrOjdzpgUuS0tLSFBkZecN+O3bsUGJiol5//XW9+OKLDuvee+89nTt3rpAqvL68q5BWU1if3d+fq3379lWpUqU0fvx4LV68WF27di2UMYE/M6YlABbSokULvfLKKzp+/Lg++eQTe/vV5tyuWrVKTZo0UWBgoPz8/FStWjV7gFq/fr3++te/SpJ69+5t/7Vq3hzL5s2b695779WuXbv0wAMPqHjx4vZtrzVv8cqVK3rxxRcVGhoqX19fPfLIIzpx4oRDn4iICPXq1Svftr/f541qu9qc24sXL2rYsGEKCwuTt7e3qlWrprffflvGGId+NptNAwcO1KJFi3TvvffK29tbNWvW1PLly6/+hv9BWlqa+vTpo5CQEBUrVkx16tTRzJkz7evz5h8fPXpUS5Yssdd+7Nixq+7vhx9+kCQ1btw43zp3d3eVKlXKoe3nn3/Wk08+qZCQEHvt//nPfxz65NUwb948vf766ypfvryKFSumli1b6siRI/Z+zZs315IlS3T8+HF7nXnv69Xm3Pbq1Ut+fn5KSkpSu3bt5Ofnp3LlymnKlCmSpL1796pFixby9fVVeHi45syZk++Yzp07p8GDB9v/nipXrqw333zT4Up83thvv/22PvzwQ1WqVEne3t7661//qh07djjUkzf276cGXM+15ovf6L1yVosWLSRJR48elSTl5OTotddesx9LRESEXnzxRWVmZjpst3PnTsXExOiee+6Rj4+PKlasqCeffNL+vgQHB0uSRo8ebT/evKvWKSkp6t27t8qXLy9vb2+VKVNGHTp0uOZnD7ibceUWsJju3bvrxRdf1MqVK9WvX7+r9tm3b5/atWun2rVra8yYMfL29taRI0e0adMmSVKNGjU0ZswYvfrqq+rfv7+aNm0qSWrUqJF9H7/88otat26tLl266IknnlBISMh163r99ddls9n0/PPPKy0tTRMnTlR0dLT27Nljv8JcEAWp7feMMXrkkUe0bt069enTR3Xr1tWKFSs0YsQI/fzzz5owYYJD/6+++kqff/65/vnPf6pEiRKaPHmyYmNjlZSUlC9M/t6vv/6q5s2b68iRIxo4cKAqVqyo+fPnq1evXjp37pyeffZZ1ahRQx9//LGGDBmi8uXLa9iwYZJkDyV/FB4eLkmaPXu2GjdufN2r76mpqWrYsKE9oAcHB2vZsmXq06ePMjIy8k0tGDt2rNzc3DR8+HClp6dr3Lhx6tatm7Zt2yZJeumll5Senq6ffvrJ/h75+fldc3zptx9gWrdurQceeEDjxo3T7NmzNXDgQPn6+uqll15St27d1KlTJ02bNk09evRQVFSUKlasKOm3K//NmjXTzz//rKeeekoVKlTQ5s2bFR8fr+Tk5Hxzf+fMmaPz58/rqaeeks1m07hx49SpUyf9+OOP8vT01FNPPaWTJ09q1apV+vjjj69b943c6L1yVt4PLXmfp759+2rmzJl69NFHNWzYMG3btk0JCQnav3+/Fi5cKOm3H5xatWql4OBgvfDCCwoMDNSxY8f0+eefS/rtMzR16lQNGDBAf//739WpUydJsk9Pio2N1b59+/TMM88oIiJCaWlpWrVqlZKSku74GzABpxkAd5Xp06cbSWbHjh3X7BMQEGDq1atnXx45cqT5/ek+YcIEI8mcOnXqmvvYsWOHkWSmT5+eb12zZs2MJDNt2rSrrmvWrJl9ed26dUaSKVeunMnIyLC3z5s3z0gykyZNsreFh4ebnj173nCf16utZ8+eJjw83L68aNEiI8n861//cuj36KOPGpvNZo4cOWJvk2S8vLwc2r755hsjybz77rv5xvq9iRMnGknmk08+sbdlZWWZqKgo4+fn53Ds4eHhpm3bttfdnzHG5Obm2t/rkJAQ07VrVzNlyhRz/PjxfH379OljypQpY06fPu3Q3qVLFxMQEGAuXbpkjPm/v48aNWqYzMxMe79JkyYZSWbv3r32trZt2zq8l3mOHj2a7/3v2bOnkWTeeOMNe9vZs2eNj4+PsdlsZu7cufb2AwcOGElm5MiR9rbXXnvN+Pr6mkOHDjmM9cILLxh3d3eTlJTkMHapUqXMmTNn7P0WL15sJJkvv/zS3hYXF2ec+W/uWp/dgrxXV5N3rq5evdqcOnXKnDhxwsydO9eUKlXK+Pj4mJ9++sns2bPHSDJ9+/Z12Hb48OFGklm7dq0xxpiFCxfe8Lw/depUvvfVmN/+HiSZt956q4DvBHB3Y1oCYEF+fn7XfWpCYGCgJGnx4sU3ffOVt7e3evfuXeD+PXr0UIkSJezLjz76qMqUKaOlS5fe1PgFtXTpUrm7u2vQoEEO7cOGDZMxRsuWLXNoj46OVqVKlezLtWvXlr+/v3788ccbjhMaGuowh9LT01ODBg3ShQsXtGHDBqdrt9lsWrFihf71r3+pZMmS+u9//6u4uDiFh4erc+fO9jm3xhh99tlnat++vYwxOn36tP0VExOj9PR07d6922HfvXv3dphjmncF/EbHeSN9+/a1/zkwMFDVqlWTr6+vHnvsMXt7tWrVFBgY6DDW/Pnz1bRpU5UsWdKh/ujoaF25ckUbN250GKdz584qWbKky+u/mlt9r6KjoxUcHKywsDB16dJFfn5+WrhwocqVK2f//A8dOtRhm7yr+kuWLJH0f+dsYmKisrOznarfx8dHXl5eWr9+vc6ePevUtsDdiHALWNCFCxccguQfde7cWY0bN1bfvn0VEhKiLl26aN68eU4F3XLlyjl1A06VKlUclm02mypXrlzoc/6OHz+usmXL5ns/atSoYV//exUqVMi3j5IlS94wFBw/flxVqlSRm5vjP6vXGqegvL299dJLL2n//v06efKk/vvf/6phw4aaN2+eBg4cKEk6deqUzp07pw8//FDBwcEOr7wfQNLS0q57nHlB8VbCT7FixfJNsQgICFD58uXzzXcNCAhwGOvw4cNavnx5vvqjo6NvW/3XcqtjTZkyRatWrdK6dev0/fff68cff1RMTIyk3z4Xbm5uqly5ssM2oaGhCgwMtH9umjVrptjYWI0ePVr33HOPOnTooOnTp+ebl3s13t7eevPNN7Vs2TKFhITYp42kpKQUqH7gbsOcW8BifvrpJ6Wnp+f7z/L3fHx8tHHjRq1bt05LlizR8uXL9emnn6pFixZauXKl3N3dbziOM/NkC+paN/xcuXKlQDW5wrXGMX+4+awolClTRl26dFFsbKxq1qypefPmacaMGfYfSp544gn17Nnzqtv+/tFwUuEc57X2WZCxcnNz9dBDD+m55567at+qVas6vU9XudWx/va3vzk82eRqbnSzW94XoWzdulVffvmlVqxYoSeffFLvvPOOtm7desP50IMHD1b79u21aNEirVixQq+88ooSEhK0du1a1atXr0DHAdwtCLeAxeTdPJN3Zeha3Nzc1LJlS7Vs2VLjx4/XG2+8oZdeeknr1q1TdHS0y7/R7PDhww7LxhgdOXLEIXSVLFnyqo+3On78uP7yl7/Yl52pLTw8XKtXr9b58+cdrt7mfQFC3k1btyo8PFzffvutcnNzHa7eunoc6bfpDrVr19bhw4d1+vRpBQcHq0SJErpy5Yr9Sqcr3K5vtZOkSpUq6cKFC3dt/TcrPDxcubm5Onz4sP0qv/TbDYLnzp3L97lp2LChGjZsqNdff11z5sxRt27dNHfuXPXt2/eGx1upUiUNGzZMw4YN0+HDh1W3bl298847Dk9WAayAaQmAhaxdu1avvfaaKlasqG7dul2z35kzZ/K15X0ZQt6vOX19fSXJZc9SnTVrlsM84AULFig5OVmtW7e2t1WqVElbt25VVlaWvS0xMTHfI8Ocqa1Nmza6cuWK3nvvPYf2CRMmyGazOYx/K9q0aaOUlBR9+umn9racnBy9++678vPzU7NmzZze5+HDh5WUlJSv/dy5c9qyZYtKliyp4OBgubu7KzY2Vp999pm+++67fP1PnTrl9NjSb+9zenr6TW3rrMcee0xbtmzRihUr8q07d+6ccnJynN6nqz/DhaFNmzaSlO9pEOPHj5cktW3bVtJvUyD+eKX4j+ds3hdC/PF4L126pMuXLzu0VapUSSVKlCjQtAbgbsOVW+AutWzZMh04cEA5OTlKTU3V2rVrtWrVKoWHh+uLL7647kP2x4wZo40bN6pt27YKDw9XWlqa3n//fZUvX15NmjSR9Nt/foGBgZo2bZpKlCghX19fNWjQwP7oJmcFBQWpSZMm6t27t1JTUzVx4kRVrlzZ4XFlffv21YIFC/Twww/rscce0w8//KBPPvnE4QYvZ2tr3769HnzwQb300ks6duyY6tSpo5UrV2rx4sUaPHhwvn3frP79++uDDz5Qr169tGvXLkVERGjBggXatGmTJk6ceN050NfyzTff6PHHH1fr1q3VtGlTBQUF6eeff9bMmTN18uRJTZw40f4r87Fjx2rdunVq0KCB+vXrp8jISJ05c0a7d+/W6tWrr/oDzY3Ur19fn376qYYOHaq//vWv8vPzU/v27Z3eT0GMGDFCX3zxhdq1a6devXqpfv36unjxovbu3asFCxbo2LFjuueee5yuX5IGDRqkmJgYubu7q0uXLoVR/k2rU6eOevbsqQ8//FDnzp1Ts2bNtH37ds2cOVMdO3bUgw8+KEmaOXOm3n//ff39739XpUqVdP78eX300Ufy9/e3B2QfHx9FRkbq008/VdWqVRUUFKR7771XOTk5atmypR577DFFRkbKw8NDCxcuVGpq6h33fgAuUVSPaQBwc/IeL5T38vLyMqGhoeahhx4ykyZNcnjkVJ4/PgpszZo1pkOHDqZs2bLGy8vLlC1b1nTt2jXfY5gWL15sIiMjjYeHh8Ojn5o1a2Zq1qx51fqu9Til//73vyY+Pt6ULl3a+Pj4mLZt2171kVbvvPOOKVeunPH29jaNGzc2O3fuzLfP69X2x0eBGWPM+fPnzZAhQ0zZsmWNp6enqVKlinnrrbdMbm6uQz9JJi4uLl9N13pE2R+lpqaa3r17m3vuucd4eXmZWrVqXfVxZQV9FFhqaqoZO3asadasmSlTpozx8PAwJUuWNC1atDALFiy4av+4uDgTFhZmPD09TWhoqGnZsqX58MMP7X3y/j7mz5/vsO3VHu914cIF8/jjj5vAwEAjyf6+XutRYL6+vvlqutZn5Wrvwfnz5018fLypXLmy8fLyMvfcc49p1KiRefvtt01WVpbD2Fd7rJX+8BisnJwc88wzz5jg4GBjs9lu+Fiwa312C/JeXU1BHttnjDHZ2dlm9OjRpmLFisbT09OEhYWZ+Ph4c/nyZXuf3bt3m65du5oKFSoYb29vU7p0adOuXTuzc+dOh31t3rzZ1K9f33h5ednfj9OnT5u4uDhTvXp14+vrawICAkyDBg3MvHnzrlsXcLeyGXMH3CUBAAAAuABzbgEAAGAZhFsAAABYBuEWAAAAlkG4BQAAgGUQbgEAAGAZhFsAAABYBl/ioN++0/zkyZMqUaLEXfF1jQAAAH82xhidP39eZcuWdfia8z8i3Eo6efKkwsLCiroMAAAA3MCJEydUvnz5a64n3Er2r8U8ceKE/P39i7gaAAAA/FFGRobCwsJu+HXmhFvJPhXB39+fcAsAAHAHu9EUUm4oAwAAgGUQbgEAAGAZhFsAAABYBuEWAAAAlkG4BQAAgGUQbgEAAGAZhFsAAABYBuEWAAAAlkG4BQAAgGUQbgEAAGAZhFsAAABYBuEWAAAAlkG4BQAAgGUQbgEAAGAZhFsAAABYhkdRFwDXs422FXUJuA4z0hR1CQAAWBZXbgEAAGAZhFsAAABYBuEWAAAAlkG4BQAAgGUQbgEAAGAZhFsAAABYBuEWAAAAlkG4BQAAgGUQbgEAAGAZhFsAAABYBuEWAAAAlkG4BQAAgGUQbgEAAGAZhFsAAABYBuEWAAAAlkG4BQAAgGUQbgEAAGAZhFsAAABYBuEWAAAAlkG4BQAAgGUQbgEAAGAZhFsAAABYBuEWAAAAlkG4BQAAgGUUabgdNWqUbDabw6t69er29ZcvX1ZcXJxKlSolPz8/xcbGKjU11WEfSUlJatu2rYoXL67SpUtrxIgRysnJud2HAgAAgDuAR1EXULNmTa1evdq+7OHxfyUNGTJES5Ys0fz58xUQEKCBAweqU6dO2rRpkyTpypUratu2rUJDQ7V582YlJyerR48e8vT01BtvvHHbjwUAAABFq8jDrYeHh0JDQ/O1p6en69///rfmzJmjFi1aSJKmT5+uGjVqaOvWrWrYsKFWrlyp77//XqtXr1ZISIjq1q2r1157Tc8//7xGjRolLy+v2304AAAAKEJFPuf28OHDKlu2rP7yl7+oW7duSkpKkiTt2rVL2dnZio6OtvetXr26KlSooC1btkiStmzZolq1aikkJMTeJyYmRhkZGdq3b981x8zMzFRGRobDCwAAAHe/Ig23DRo00IwZM7R8+XJNnTpVR48eVdOmTXX+/HmlpKTIy8tLgYGBDtuEhIQoJSVFkpSSkuIQbPPW5627loSEBAUEBNhfYWFhrj0wAAAAFIkinZbQunVr+59r166tBg0aKDw8XPPmzZOPj0+hjRsfH6+hQ4falzMyMgi4AAAAFlDk0xJ+LzAwUFWrVtWRI0cUGhqqrKwsnTt3zqFPamqqfY5uaGhovqcn5C1fbR5vHm9vb/n7+zu8AAAAcPe7o8LthQsX9MMPP6hMmTKqX7++PD09tWbNGvv6gwcPKikpSVFRUZKkqKgo7d27V2lpafY+q1atkr+/vyIjI297/QAAAChaRTotYfjw4Wrfvr3Cw8N18uRJjRw5Uu7u7uratasCAgLUp08fDR06VEFBQfL399czzzyjqKgoNWzYUJLUqlUrRUZGqnv37ho3bpxSUlL08ssvKy4uTt7e3kV5aAAAACgCRRpuf/rpJ3Xt2lW//PKLgoOD1aRJE23dulXBwcGSpAkTJsjNzU2xsbHKzMxUTEyM3n//ffv27u7uSkxM1IABAxQVFSVfX1/17NlTY8aMKapDAgAAQBGyGWNMURdR1DIyMhQQEKD09HRLzL+1jbYVdQm4DjPyT3/KAQDgtILmtTtqzi0AAABwKwi3AAAAsAzCLQAAACyDcAsAAADLINwCAADAMgi3AAAAsAzCLQAAACyDcAsAAADLINwCAADAMgi3AAAAsAzCLQAAACyDcAsAAADLINwCAADAMgi3AAAAsAzCLQAAACyDcAsAAADLINwCAADAMgi3AAAAsAzCLQAAACyDcAsAAADLINwCAADAMgi3AAAAsAzCLQAAACyDcAsAAADLINwCAADAMgi3AAAAsAzCLQAAACyDcAsAAADLINwCAADAMgi3AAAAsAzCLQAAACyDcAsAAADLINwCAADAMgi3AAAAsAzCLQAAACyDcAsAAADLINwCAADAMgi3AAAAsAzCLQAAACyDcAsAAADLINwCAADAMgi3AAAAsAzCLQAAACyDcAsAAADLINwCAADAMgi3AAAAsAzCLQAAACyDcAsAAADLINwCAADAMjyKugAAuFOMHj26qEvANYwcObKoSwBwl+DKLQAAACyDcAsAAADLINwCAADAMgi3AAAAsAzCLQAAACyDcAsAAADLINwCAADAMu6YcDt27FjZbDYNHjzY3nb58mXFxcWpVKlS8vPzU2xsrFJTUx22S0pKUtu2bVW8eHGVLl1aI0aMUE5Ozm2uHgAAAHeCOyLc7tixQx988IFq167t0D5kyBB9+eWXmj9/vjZs2KCTJ0+qU6dO9vVXrlxR27ZtlZWVpc2bN2vmzJmaMWOGXn311dt9CAAAALgDFHm4vXDhgrp166aPPvpIJUuWtLenp6fr3//+t8aPH68WLVqofv36mj59ujZv3qytW7dKklauXKnvv/9en3zyierWravWrVvrtdde05QpU5SVlVVUhwQAAIAiUuThNi4uTm3btlV0dLRD+65du5Sdne3QXr16dVWoUEFbtmyRJG3ZskW1atVSSEiIvU9MTIwyMjK0b9++a46ZmZmpjIwMhxcAAADufh5FOfjcuXO1e/du7dixI9+6lJQUeXl5KTAw0KE9JCREKSkp9j6/D7Z56/PWXUtCQgLfIQ8AAGBBRXbl9sSJE3r22Wc1e/ZsFStW7LaOHR8fr/T0dPvrxIkTt3V8AAAAFI4iC7e7du1SWlqa7rvvPnl4eMjDw0MbNmzQ5MmT5eHhoZCQEGVlZencuXMO26Wmpio0NFSSFBoamu/pCXnLeX2uxtvbW/7+/g4vAAAA3P2KLNy2bNlSe/fu1Z49e+yv+++/X926dbP/2dPTU2vWrLFvc/DgQSUlJSkqKkqSFBUVpb179yotLc3eZ9WqVfL391dkZORtPyYAAAAUrSKbc1uiRAnde++9Dm2+vr4qVaqUvb1Pnz4aOnSogoKC5O/vr2eeeUZRUVFq2LChJKlVq1aKjIxU9+7dNW7cOKWkpOjll19WXFycvL29b/sxAQAAoGgV6Q1lNzJhwgS5ubkpNjZWmZmZiomJ0fvvv29f7+7ursTERA0YMEBRUVHy9fVVz549NWbMmCKsGgAAAEXljgq369evd1guVqyYpkyZoilTplxzm/DwcC1durSQKwMAAMDdoMifcwsAAAC4CuEWAAAAlkG4BQAAgGUQbgEAAGAZhFsAAABYBuEWAAAAlkG4BQAAgGUQbgEAAGAZhFsAAABYBuEWAAAAlkG4BQAAgGUQbgEAAGAZhFsAAABYBuEWAAAAlkG4BQAAgGU4HW5//fVXXbp0yb58/PhxTZw4UStXrnRpYQAAAICznA63HTp00KxZsyRJ586dU4MGDfTOO++oQ4cOmjp1qssLBAAAAArK6XC7e/duNW3aVJK0YMEChYSE6Pjx45o1a5YmT57s8gIBAACAgnI63F66dEklSpSQJK1cuVKdOnWSm5ubGjZsqOPHj7u8QAAAAKCgnA63lStX1qJFi3TixAmtWLFCrVq1kiSlpaXJ39/f5QUCAAAABeV0uH311Vc1fPhwRUREqEGDBoqKipL021XcevXqubxAAAAAoKA8nN3g0UcfVZMmTZScnKw6derY21u2bKlOnTq5tDgAAADAGU5fuX3yySfl6+urevXqyc3t/zavWbOm3nzzTZcWBwAAADjD6XA7c+ZM/frrr/naf/31V/sjwgAAAICiUOBpCRkZGTLGyBij8+fPq1ixYvZ1V65c0dKlS1W6dOlCKRIAAAAoiAKH28DAQNlsNtlsNlWtWjXfepvNptGjR7u0OAAAAMAZBQ6369atkzFGLVq00GeffaagoCD7Oi8vL4WHh6ts2bKFUiQAAABQEAUOt82aNZMkHT16VBUqVJDNZiu0ogAAAICb4fQNZfv379emTZvsy1OmTFHdunX1+OOP6+zZsy4tDgAAAHCG0+F2xIgRysjIkCTt3btXQ4cOVZs2bXT06FENHTrU5QUCAAAABeX0lzgcPXpUkZGRkqTPPvtM7du31xtvvKHdu3erTZs2Li8QAAAAKCinr9x6eXnp0qVLkqTVq1erVatWkqSgoCD7FV0AAACgKDh95bZJkyYaOnSoGjdurO3bt+vTTz+VJB06dEjly5d3eYEAAABAQTl95fa9996Th4eHFixYoKlTp6pcuXKSpGXLlunhhx92eYEAAABAQTl95bZChQpKTEzM1z5hwgSXFAQAAADcLKfDrfTb1+0uWrRI+/fvlyTVrFlTjzzyiNzd3V1aHAAAAOAMp8PtkSNH1KZNG/3888+qVq2aJCkhIUFhYWFasmSJKlWq5PIiAQAAgIJwes7toEGDVKlSJZ04cUK7d+/W7t27lZSUpIoVK2rQoEGFUSMAAABQIE5fud2wYYO2bt2qoKAge1upUqU0duxYNW7c2KXFAQAAAM5w+sqtt7e3zp8/n6/9woUL8vLycklRAAAAwM1wOty2a9dO/fv317Zt22SMkTFGW7du1dNPP61HHnmkMGoEAAAACsTpcDt58mRVqlRJUVFRKlasmIoVK6bGjRurcuXKmjRpUmHUCAAAABSI03NuAwMDtXjxYh05csT+KLAaNWqocuXKLi8OAAAAcEaBw21ubq7eeustffHFF8rKylLLli01cuRI+fj4FGZ9AAAAQIEVeFrC66+/rhdffFF+fn4qV66cJk2apLi4uMKsDQAAAHBKgcPtrFmz9P7772vFihVatGiRvvzyS82ePVu5ubmFWR8AAABQYAUOt0lJSWrTpo19OTo6WjabTSdPniyUwgAAAABnFTjc5uTkqFixYg5tnp6eys7OdnlRAAAAwM0o8A1lxhj16tVL3t7e9rbLly/r6aeflq+vr73t888/d22FAAAAQAEVONz27NkzX9sTTzzh0mIAAACAW1HgcDt9+vTCrAMAAAC4ZU5/QxkAAABwpyLcAgAAwDIItwAAALAMwi0AAAAso0Dh9r777tPZs2clSWPGjNGlS5cKtSgAAADgZhQo3O7fv18XL16UJI0ePVoXLlxwyeBTp05V7dq15e/vL39/f0VFRWnZsmX29ZcvX1ZcXJxKlSolPz8/xcbGKjU11WEfSUlJatu2rYoXL67SpUtrxIgRysnJcUl9AAAAuLsU6FFgdevWVe/evdWkSRMZY/T222/Lz8/vqn1fffXVAg9evnx5jR07VlWqVJExRjNnzlSHDh309ddfq2bNmhoyZIiWLFmi+fPnKyAgQAMHDlSnTp20adMmSdKVK1fUtm1bhYaGavPmzUpOTlaPHj3k6empN954o8B1AAAAwBpsxhhzo04HDx7UyJEj9cMPP2j37t2KjIyUh0f+XGyz2bR79+5bKigoKEhvvfWWHn30UQUHB2vOnDl69NFHJUkHDhxQjRo1tGXLFjVs2FDLli1Tu3btdPLkSYWEhEiSpk2bpueff16nTp2Sl5dXgcbMyMhQQECA0tPT5e/vf0v13wlso21FXQKuw4y84SmHIjJ69OiiLgHXMHLkyKIuAUARK2heK9CV22rVqmnu3LmSJDc3N61Zs0alS5d2TaX/vytXrmj+/Pm6ePGioqKitGvXLmVnZys6Otrep3r16qpQoYI93G7ZskW1atWyB1tJiomJ0YABA7Rv3z7Vq1fvqmNlZmYqMzPTvpyRkeHSYwEAAEDRcPppCbm5uS4Ntnv37pWfn5+8vb319NNPa+HChYqMjFRKSoq8vLwUGBjo0D8kJEQpKSmSpJSUFIdgm7c+b921JCQkKCAgwP4KCwtz2fEAAACg6BT463d/74cfftDEiRO1f/9+SVJkZKSeffZZVapUyel9VatWTXv27FF6eroWLFignj17asOGDTdTVoHFx8dr6NCh9uWMjAwCLgAAgAU4feV2xYoVioyM1Pbt21W7dm3Vrl1b27ZtU82aNbVq1SqnC/Dy8lLlypVVv359JSQkqE6dOpo0aZJCQ0OVlZWlc+fOOfRPTU1VaGioJCk0NDTf0xPylvP6XI23t7f9CQ15LwAAANz9nA63L7zwgoYMGaJt27Zp/PjxGj9+vLZt26bBgwfr+eefv+WCcnNzlZmZqfr168vT01Nr1qyxrzt48KCSkpIUFRUlSYqKitLevXuVlpZm77Nq1Sr5+/srMjLylmsBAADA3cXpaQn79+/XvHnz8rU/+eSTmjhxolP7io+PV+vWrVWhQgWdP39ec+bM0fr167VixQoFBASoT58+Gjp0qIKCguTv769nnnlGUVFRatiwoSSpVatWioyMVPfu3TVu3DilpKTo5ZdfVlxcnLy9vZ09NAAAANzlnA63wcHB2rNnj6pUqeLQvmfPHqdvNEtLS1OPHj2UnJysgIAA1a5dWytWrNBDDz0kSZowYYLc3NwUGxurzMxMxcTE6P3337dv7+7ursTERA0YMEBRUVHy9fVVz549NWbMGGcPCwAAABbgdLjt16+f+vfvrx9//FGNGjWSJG3atElvvvmmw01aBfHvf//7uuuLFSumKVOmaMqUKdfsEx4erqVLlzo1LgAAAKzJ6XD7yiuvqESJEnrnnXcUHx8vSSpbtqxGjRqlQYMGubxAAAAAoKCcDrc2m01DhgzRkCFDdP78eUlSiRIlXF4YAAAA4Kybes5tHkItAAAA7iROPwoMAAAAuFMRbgEAAGAZhFsAAABYhlPhNjs7Wy1bttThw4cLqx4AAADgpjkVbj09PfXtt98WVi0AAADALXF6WsITTzxxwy9fAAAAAIqC048Cy8nJ0X/+8x+tXr1a9evXl6+vr8P68ePHu6w4AAAAwBlOh9vvvvtO9913nyTp0KFDDutsNptrqgIAAABugtPhdt26dYVRBwAAAHDLbvpRYEeOHNGKFSv066+/SpKMMS4rCgAAALgZTofbX375RS1btlTVqlXVpk0bJScnS5L69OmjYcOGubxAAAAAoKCcDrdDhgyRp6enkpKSVLx4cXt7586dtXz5cpcWBwAAADjD6Tm3K1eu1IoVK1S+fHmH9ipVquj48eMuKwwAAABwltNXbi9evOhwxTbPmTNn5O3t7ZKiAAAAgJvhdLht2rSpZs2aZV+22WzKzc3VuHHj9OCDD7q0OAAAAMAZTk9LGDdunFq2bKmdO3cqKytLzz33nPbt26czZ85o06ZNhVEjAAAAUCBOX7m99957dejQITVp0kQdOnTQxYsX1alTJ3399deqVKlSYdQIAAAAFIjTV24lKSAgQC+99JKrawEAAABuyU2F27Nnz+rf//639u/fL0mKjIxU7969FRQU5NLiAAAAAGc4PS1h48aNioiI0OTJk3X27FmdPXtWkydPVsWKFbVx48bCqBEAAAAoEKev3MbFxalz586aOnWq3N3dJUlXrlzRP//5T8XFxWnv3r0uLxIAAAAoCKev3B45ckTDhg2zB1tJcnd319ChQ3XkyBGXFgcAAAA4w+lwe99999nn2v7e/v37VadOHZcUBQAAANyMAk1L+Pbbb+1/HjRokJ599lkdOXJEDRs2lCRt3bpVU6ZM0dixYwunSgAAAKAAChRu69atK5vNJmOMve25557L1+/xxx9X586dXVcdAAAA4IQChdujR48Wdh0AAADALStQuA0PDy/sOgAAAIBbdlNf4nDy5El99dVXSktLU25ursO6QYMGuaQwAAAAwFlOh9sZM2boqaeekpeXl0qVKiWbzWZfZ7PZCLcAAAAoMk6H21deeUWvvvqq4uPj5ebm9JPEAAAAgELjdDq9dOmSunTpQrAFAADAHcfphNqnTx/Nnz+/MGoBAAAAbonT0xISEhLUrl07LV++XLVq1ZKnp6fD+vHjx7usOAAAAMAZNxVuV6xYoWrVqklSvhvKAAAAgKLidLh955139J///Ee9evUqhHIAAACAm+f0nFtvb281bty4MGoBAAAAbonT4fbZZ5/Vu+++Wxi1AAAAALfE6WkJ27dv19q1a5WYmKiaNWvmu6Hs888/d1lxAAAAgDOcDreBgYHq1KlTYdQCAAAA3BKnw+306dMLow4AAADglvE1YwAAALAMp6/cVqxY8brPs/3xxx9vqSAAAADgZjkdbgcPHuywnJ2dra+//lrLly/XiBEjXFUXAAAA4DSnw+2zzz571fYpU6Zo586dt1wQAAAAcLNcNue2devW+uyzz1y1OwAAAMBpLgu3CxYsUFBQkKt2BwAAADjN6WkJ9erVc7ihzBijlJQUnTp1Su+//75LiwMAAACc4XS47dixo8Oym5ubgoOD1bx5c1WvXt1VdQEAAABOczrcjhw5sjDqAAAAAG4ZX+IAAAAAyyjwlVs3N7frfnmDJNlsNuXk5NxyUQAAAMDNKHC4Xbhw4TXXbdmyRZMnT1Zubq5LigIAAABuRoHDbYcOHfK1HTx4UC+88IK+/PJLdevWTWPGjHFpcQAAAIAzbmrO7cmTJ9WvXz/VqlVLOTk52rNnj2bOnKnw8HBX1wcAAAAUmFPhNj09Xc8//7wqV66sffv2ac2aNfryyy9177333tTgCQkJ+utf/6oSJUqodOnS6tixow4ePOjQ5/Lly4qLi1OpUqXk5+en2NhYpaamOvRJSkpS27ZtVbx4cZUuXVojRoxg7i8AAMCfUIHD7bhx4/SXv/xFiYmJ+u9//6vNmzeradOmtzT4hg0bFBcXp61bt2rVqlXKzs5Wq1atdPHiRXufIUOG6Msvv9T8+fO1YcMGnTx5Up06dbKvv3Llitq2bausrCxt3rxZM2fO1IwZM/Tqq6/eUm0AAAC4+9iMMaYgHd3c3OTj46Po6Gi5u7tfs9/nn39+08WcOnVKpUuX1oYNG/TAAw8oPT1dwcHBmjNnjh599FFJ0oEDB1SjRg1t2bJFDRs21LJly9SuXTudPHlSISEhkqRp06bp+eef16lTp+Tl5XXDcTMyMhQQEKD09HT5+/vfdP13Ctvo6z/VAkXLjCzQKYciMHr06KIuAdfAM9YBFDSvFfiGsh49etzwUWC3Kj09XZIUFBQkSdq1a5eys7MVHR1t71O9enVVqFDBHm63bNmiWrVq2YOtJMXExGjAgAHat2+f6tWrl2+czMxMZWZm2pczMjIK65AAAABwGxU43M6YMaMQy5Byc3M1ePBgNW7c2D6HNyUlRV5eXgoMDHToGxISopSUFHuf3wfbvPV5664mISGBKzQAAAAWdMd8Q1lcXJy+++47zZ07t9DHio+PV3p6uv114sSJQh8TAAAAha/AV24L08CBA5WYmKiNGzeqfPny9vbQ0FBlZWXp3LlzDldvU1NTFRoaau+zfft2h/3lPU0hr88feXt7y9vb28VHAQAAgKJWpFdujTEaOHCgFi5cqLVr16pixYoO6+vXry9PT0+tWbPG3nbw4EElJSUpKipKkhQVFaW9e/cqLS3N3mfVqlXy9/dXZGTk7TkQAAAA3BGK9MptXFyc5syZo8WLF6tEiRL2ObIBAQHy8fFRQECA+vTpo6FDhyooKEj+/v565plnFBUVpYYNG0qSWrVqpcjISHXv3l3jxo1TSkqKXn75ZcXFxXF1FgAA4E+mSMPt1KlTJUnNmzd3aJ8+fbp69eolSZowYYLc3NwUGxurzMxMxcTE6P3337f3dXd3V2JiogYMGKCoqCj5+vqqZ8+efBUwAADAn1CRhtuCPGK3WLFimjJliqZMmXLNPuHh4Vq6dKkrSwMAAMBd6I55WgIAAABwqwi3AAAAsAzCLQAAACyDcAsAAADLINwCAADAMgi3AAAAsAzCLQAAACyDcAsAAADLINwCAADAMgi3AAAAsAzCLQAAACyDcAsAAADLINwCAADAMgi3AAAAsAzCLQAAACyDcAsAAADLINwCAADAMgi3AAAAsAzCLQAAACyDcAsAAADLINwCAADAMgi3AAAAsAzCLQAAACyDcAsAAADLINwCAADAMgi3AAAAsAzCLQAAACyDcAsAAADLINwCAADAMgi3AAAAsAzCLQAAACyDcAsAAADLINwCAADAMgi3AAAAsAzCLQAAACyDcAsAAADLINwCAADAMgi3AAAAsAzCLQAAACyDcAsAAADLINwCAADAMgi3AAAAsAzCLQAAACyDcAsAAADLINwCAADAMgi3AAAAsAzCLQAAACyDcAsAAADLINwCAADAMgi3AAAAsAzCLQAAACyDcAsAAADLINwCAADAMgi3AAAAsAzCLQAAACyDcAsAAADLKNJwu3HjRrVv315ly5aVzWbTokWLHNYbY/Tqq6+qTJky8vHxUXR0tA4fPuzQ58yZM+rWrZv8/f0VGBioPn366MKFC7fxKAAAAHCnKNJwe/HiRdWpU0dTpky56vpx48Zp8uTJmjZtmrZt2yZfX1/FxMTo8uXL9j7dunXTvn37tGrVKiUmJmrjxo3q37//7ToEAAAA3EE8inLw1q1bq3Xr1lddZ4zRxIkT9fLLL6tDhw6SpFmzZikkJESLFi1Sly5dtH//fi1fvlw7duzQ/fffL0l699131aZNG7399tsqW7bsbTsWAAAAFL07ds7t0aNHlZKSoujoaHtbQECAGjRooC1btkiStmzZosDAQHuwlaTo6Gi5ublp27Zt19x3ZmamMjIyHF4AAAC4+92x4TYlJUWSFBIS4tAeEhJiX5eSkqLSpUs7rPfw8FBQUJC9z9UkJCQoICDA/goLC3Nx9QAAACgKd2y4LUzx8fFKT0+3v06cOFHUJQEAAMAF7thwGxoaKklKTU11aE9NTbWvCw0NVVpamsP6nJwcnTlzxt7nary9veXv7+/wAgAAwN3vjg23FStWVGhoqNasWWNvy8jI0LZt2xQVFSVJioqK0rlz57Rr1y57n7Vr1yo3N1cNGjS47TUDAACgaBXp0xIuXLigI0eO2JePHj2qPXv2KCgoSBUqVNDgwYP1r3/9S1WqVFHFihX1yiuvqGzZsurYsaMkqUaNGnr44YfVr18/TZs2TdnZ2Ro4cKC6dOnCkxIAAAD+hIo03O7cuVMPPvigfXno0KGSpJ49e2rGjBl67rnndPHiRfXv31/nzp1TkyZNtHz5chUrVsy+zezZszVw4EC1bNlSbm5uio2N1eTJk2/7sQAAAKDoFWm4bd68uYwx11xvs9k0ZswYjRkz5pp9goKCNGfOnMIoDwAAAHeZO3bOLQAAAOAswi0AAAAsg3ALAAAAyyDcAgAAwDIItwAAALAMwi0AAAAsg3ALAAAAyyDcAgAAwDIItwAAALAMwi0AAAAsg3ALAAAAyyDcAgAAwDIItwAAALAMwi0AAAAsg3ALAAAAyyDcAgAAwDIItwAAALAMwi0AAAAsg3ALAAAAyyDcAgAAwDIItwAAALAMwi0AAAAsg3ALAAAAyyDcAgAAwDIItwAAALAMwi0AAAAsg3ALAAAAyyDcAgAAwDIItwAAALAMwi0AAAAsg3ALAAAAyyDcAgAAwDIItwAAALAMwi0AAAAsg3ALAAAAyyDcAgAAwDIItwAAALAMwi0AAAAsg3ALAAAAyyDcAgAAwDIItwAAALAMwi0AAAAsg3ALAAAAyyDcAgAAwDIItwAAALAMwi0AAAAsg3ALAAAAyyDcAgAAwDIItwAAALAMwi0AAAAsg3ALAAAAyyDcAgAAwDIItwAAALAMwi0AAAAsw6OoCwAAAHc5m62oK8C1GFPUFdx2XLkFAACAZRBuAQAAYBmWCbdTpkxRRESEihUrpgYNGmj79u1FXRIAAABuM0uE208//VRDhw7VyJEjtXv3btWpU0cxMTFKS0sr6tIAAABwG1ki3I4fP179+vVT7969FRkZqWnTpql48eL6z3/+U9SlAQAA4Da665+WkJWVpV27dik+Pt7e5ubmpujoaG3ZsuWq22RmZiozM9O+nJ6eLknKyMgo3GJvl8tFXQCuxzKfMwu6fJmT507FeQPcJAudO3n/DpgbPAHirg+3p0+f1pUrVxQSEuLQHhISogMHDlx1m4SEBI0ePTpfe1hYWKHUCPxewNiAoi4BuOuMHTu2qEsA7k4B1vs/5/z58wq4znHd9eH2ZsTHx2vo0KH25dzcXJ05c0alSpWSjWf13VEyMjIUFhamEydOyN/fv6jLAe4anDuA8zhv7mzGGJ0/f15ly5a9br+7Ptzec889cnd3V2pqqkN7amqqQkNDr7qNt7e3vL29HdoCAwMLq0S4gL+/P//QADeBcwdwHufNnet6V2zz3PU3lHl5eal+/fpas2aNvS03N1dr1qxRVFRUEVYGAACA2+2uv3IrSUOHDlXPnj11//33629/+5smTpyoixcvqnfv3kVdGgAAAG4jS4Tbzp0769SpU3r11VeVkpKiunXravny5fluMsPdx9vbWyNHjsw3jQTA9XHuAM7jvLEGm7nR8xQAAACAu8RdP+cWAAAAyEO4BQAAgGUQbgEAAGAZhFvckdavXy+bzaZz585dt19ERIQmTpx4W2oCrIxzCShcBf1/DbeOcItb0qtXL9lsNtlsNnl5ealy5coaM2aMcnJybmm/jRo1UnJysv1hzTNmzLjqF23s2LFD/fv3v6WxgMKWd5788StkFy1adNu/FZFzCXe723U+HTt2TDabTXv27HHZPnF7EG5xyx5++GElJyfr8OHDGjZsmEaNGqW33nrrlvbp5eWl0NDQG/5DFRwcrOLFi9/SWMDtUKxYMb355ps6e/ZsUZdyVZxLuJvcSedTVlZWUZeAPyDc4pZ5e3srNDRU4eHhGjBggKKjo/XFF1/o7Nmz6tGjh0qWLKnixYurdevWOnz4sH2748ePq3379ipZsqR8fX1Vs2ZNLV26VJLjr2/Wr1+v3r17Kz093X6VeNSoUZIcf5X6+OOPq3Pnzg61ZWdn65577tGsWbMk/fbtdQkJCapYsaJ8fHxUp04dLViwoPDfJPzpRUdHKzQ0VAkJCdfs89VXX6lp06by8fFRWFiYBg0apIsXL9rXJycnq23btvLx8VHFihU1Z86cfNMJxo8fr1q1asnX11dhYWH65z//qQsXLkgS5xIswxXnk81m06JFixy2CQwM1IwZMyRJFStWlCTVq1dPNptNzZs3l/TbleOOHTvq9ddfV9myZVWtWjVJ0scff6z7779fJUqUUGhoqB5//HGlpaW57qBRYIRbuJyPj4+ysrLUq1cv7dy5U1988YW2bNkiY4zatGmj7OxsSVJcXJwyMzO1ceNG7d27V2+++ab8/Pzy7a9Ro0aaOHGi/P39lZycrOTkZA0fPjxfv27duunLL7+0/0cuSStWrNClS5f097//XZKUkJCgWbNmadq0adq3b5+GDBmiJ554Qhs2bCikdwP4jbu7u9544w29++67+umnn/Kt/+GHH/Twww8rNjZW3377rT799FN99dVXGjhwoL1Pjx49dPLkSa1fv16fffaZPvzww3z/ebq5uWny5Mnat2+fZs6cqbVr1+q5556TxLkE63DF+XQj27dvlyStXr1aycnJ+vzzz+3r1qxZo4MHD2rVqlVKTEyU9NsPgK+99pq++eYbLVq0SMeOHVOvXr1u7UBxcwxwC3r27Gk6dOhgjDEmNzfXrFq1ynh7e5uOHTsaSWbTpk32vqdPnzY+Pj5m3rx5xhhjatWqZUaNGnXV/a5bt85IMmfPnjXGGDN9+nQTEBCQr194eLiZMGGCMcaY7Oxsc88995hZs2bZ13ft2tV07tzZGGPM5cuXTfHixc3mzZsd9tGnTx/TtWvXmzl8oEB+f540bNjQPPnkk8YYYxYuXGjy/hnu06eP6d+/v8N2//vf/4ybm5v59ddfzf79+40ks2PHDvv6w4cPG0n2c+Bq5s+fb0qVKmVf5lzC3c4V55MxxkgyCxcudOgTEBBgpk+fbowx5ujRo0aS+frrr/ONHxISYjIzM69b544dO4wkc/78eWNM/v/XUHgs8fW7KFqJiYny8/NTdna2cnNz9fjjj6tTp05KTExUgwYN7P1KlSqlatWqaf/+/ZKkQYMGacCAAVq5cqWio6MVGxur2rVr33QdHh4eeuyxxzR79mx1795dFy9e1OLFizV37lxJ0pEjR3Tp0iU99NBDDttlZWWpXr16Nz0u4Iw333xTLVq0yHfF9JtvvtG3336r2bNn29uMMcrNzdXRo0d16NAheXh46L777rOvr1y5skqWLOmwn9WrVyshIUEHDhxQRkaGcnJydPnyZV26dKnAc2o5l3C3uNnzqUaNGrc0bq1ateTl5eXQtmvXLo0aNUrffPONzp49q9zcXElSUlKSIiMjb2k8OIdwi1v24IMPaurUqfLy8lLZsmXl4eGhL7744obb9e3bVzExMVqyZIlWrlyphIQEvfPOO3rmmWduupZu3bqpWbNmSktL06pVq+Tj46OHH35Ykuy/Yl2yZInKlSvnsB3fI47b5YEHHlBMTIzi4+MdfmV54cIFPfXUUxo0aFC+bSpUqKBDhw7dcN/Hjh1Tu3btNGDAAL3++usKCgrSV199pT59+igrK8upG8Y4l3A3uNnzSfptzq0xxmFd3rS5G/H19XVYvnjxomJiYhQTE6PZs2crODhYSUlJiomJ4YazIkC4xS3z9fVV5cqVHdpq1KihnJwcbdu2TY0aNZIk/fLLLzp48KDDT7BhYWF6+umn9fTTTys+Pl4fffTRVcOtl5eXrly5csNaGjVqpLCwMH366adatmyZ/vGPf8jT01OSFBkZKW9vbyUlJalZs2a3csjALRk7dqzq1q1rvxFFku677z59//33+c6lPNWqVVNOTo6+/vpr1a9fX9JvV1B/f7f4rl27lJubq3feeUdubr/dUjFv3jyH/XAuwWpu5nySfntCSHJysn358OHDunTpkn0578psQc6XAwcO6JdfftHYsWMVFhYmSdq5c6fTxwLXINyiUFSpUkUdOnRQv3799MEHH6hEiRJ64YUXVK5cOXXo0EGSNHjwYLVu3VpVq1bV2bNntW7dumv+qigiIkIXLlzQmjVrVKdOHRUvXvyaV6Eef/xxTZs2TYcOHdK6devs7SVKlNDw4cM1ZMgQ5ebmqkmTJkpPT9emTZvk7++vnj17uv6NAK6iVq1a6tatmyZPnmxve/7559WwYUMNHDhQffv2la+vr77//nutWrVK7733nqpXr67o6Gj1799fU6dOlaenp4YNGyYfHx/7I/MqV66s7Oxsvfvuu2rfvr02bdqkadOmOYzNuQSruZnzSZJatGih9957T1FRUbpy5Yqef/55+w9wklS6dGn5+Pho+fLlKl++vIoVK2Z/9vofVahQQV5eXnr33Xf19NNP67vvvtNrr71WuAeOayviOb+4y/1+Yv8fnTlzxnTv3t0EBAQYHx8fExMTYw4dOmRfP3DgQFOpUiXj7e1tgoODTffu3c3p06eNMVefeP/000+bUqVKGUlm5MiRxhjHm2DyfP/990aSCQ8PN7m5uQ7rcnNzzcSJE021atWMp6enCQ4ONjExMWbDhg23/F4A13K18+To0aPGy8vL/P6f4e3bt5uHHnrI+Pn5GV9fX1O7dm3z+uuv29efPHnStG7d2nh7e5vw8HAzZ84cU7p0aTNt2jR7n/Hjx5syZcrYz7lZs2ZxLsFSXHU+/fzzz6ZVq1bG19fXVKlSxSxdutThhjJjjPnoo49MWFiYcXNzM82aNbvm+MYYM2fOHBMREWG8vb1NVFSU+eKLLxxuSOOGstvHZswfJpwAAO4KP/30k8LCwrR69Wq1bNmyqMsBgDsC4RYA7hJr167VhQsXVKtWLSUnJ+u5557Tzz//rEOHDjn8OhUA/syYcwsAd4ns7Gy9+OKL+vHHH1WiRAk1atRIs2fPJtgCwO9w5RYAAACWwdfvAgAAwDIItwAAALAMwi0AAAAsg3ALAAAAyyDcAgAAwDIItwBgEevXr5fNZtO5c+eKuhQAKDKEWwBwsVOnTmnAgAGqUKGCvL29FRoaqpiYGG3atMllYzRv3lyDBw92aGvUqJGSk5MVEBDgsnFuVq9evdSxY8eiLgPAnxBf4gAALhYbG6usrCzNnDlTf/nLX5Samqo1a9bol19+KdRxvby8FBoaWqhjAMCdjiu3AOBC586d0//+9z+9+eabevDBBxUeHq6//e1vio+P1yOPPGLv07dvXwUHB8vf318tWrTQN998Y9/HqFGjVLduXX388ceKiIhQQECAunTpovPnz0v67arohg0bNGnSJNlsNtlsNh07dizftIQZM2YoMDBQiYmJqlatmooXL65HH31Uly5d0syZMxUREaGSJUtq0KBBunLlin38zMxMDR8+XOXKlZOvr68aNGig9evX29fn7XfFihWqUaOG/Pz89PDDDys5Odle/8yZM7V48WJ7fb/fHgAKE+EWAFzIz89Pfn5+WrRokTIzM6/a5x//+IfS0tK0bNky7dq1S/fdd59atmypM2fO2Pv88MMPWrRokRITE5WYmKgNGzZo7NixkqRJkyYpKipK/fr1U3JyspKTkxUWFnbVsS5duqTJkydr7ty5Wr58udavX6+///3vWrp0qZYuXaqPP/5YH3zwgRYsWGDfZuDAgdqyZYvmzp2rb7/9Vv/4xz/08MMP6/Dhww77ffvtt/Xxxx9r48aNSkpK0vDhwyVJw4cP12OPPWYPvMnJyWrUqNEtv7cAUCAGAOBSCxYsMCVLljTFihUzjRo1MvHx8eabb74xxhjzv//9z/j7+5vLly87bFOpUiXzwQcfGGOMGTlypClevLjJyMiwrx8xYoRp0KCBfblZs2bm2WefddjHunXrjCRz9uxZY4wx06dPN5LMkSNH7H2eeuopU7x4cXP+/Hl7W0xMjHnqqaeMMcYcP37cuLu7m59//tlh3y1btjTx8fHX3O+UKVNMSEiIfblnz56mQ4cOBXq/AMCVmHMLAC4WGxurtm3b6n//+5+2bt2qZcuWady4cfp//+//6eLFi7pw4YJKlSrlsM2vv/6qH374wb4cERGhEiVK2JfLlCmjtLQ0p2spXry4KlWqZF8OCQlRRESE/Pz8HNry9r13715duXJFVatWddhPZmamQ81/3O/N1gcArka4BYBCUKxYMT300EN66KGH9Morr6hv374aOXKk/vnPf6pMmTJXnYMaGBho/7Onp6fDOpvNptzcXKfruNp+rrfvCxcuyN3dXbt27ZK7u7tDv98H4qvtwxjjdH0A4GqEWwC4DSIjI7Vo0SLdd999SklJkYeHhyIiIm56f15eXg43gblKvXr1dOXKFaWlpalp06Y3vZ/Cqg8AboQbygDAhX755Re1aNFCn3zyib799lsdPXpU8+fP17hx49ShQwdFR0crKipKHTt21MqVK3Xs2DFt3rxZL730knbu3FngcSIiIrRt2zYdO3ZMp0+fvqmruldTtWpVdevWTT169NDnn3+uo0ePavv27UpISNCSJUucqu/bb7/VwYMHdfr0aWVnZ7ukPgC4EcItALiQn5+fGjRooAkTJuiBBx7Qvffeq1deeUX9+vXTe++9J5vNpqVLl+qBBx5Q7969VbVqVXXp0kXHjx9XSEhIgccZPny43N3dFRkZqeDgYCUlJbnsGKZPn64ePXpo2LBhqlatmjp27KgdO3aoQoUKBd5Hv379VK1aNd1///0KDg526RdYAMD12AyTpAAAAGARXLkFAACAZRBuAQAAYBmEWwAAAFgG4RYAAACWQbgFAACAZRBuAQAAYBmEWwAAAFgG4RYAAACWQbgFAACAZRBuAQAAYBmEWwAAAFjG/wdH6pG5RRTcJAAAAABJRU5ErkJggg==\n"
          },
          "metadata": {}
        },
        {
          "output_type": "display_data",
          "data": {
            "text/plain": [
              "<Figure size 800x500 with 1 Axes>"
            ],
            "image/png": "iVBORw0KGgoAAAANSUhEUgAAArcAAAHWCAYAAABt3aEVAAAAOnRFWHRTb2Z0d2FyZQBNYXRwbG90bGliIHZlcnNpb24zLjEwLjAsIGh0dHBzOi8vbWF0cGxvdGxpYi5vcmcvlHJYcgAAAAlwSFlzAAAPYQAAD2EBqD+naQAAUIVJREFUeJzt3XlcVmX+//H3DcgiekMYiySK45Livswoo9aUjKhYOWJqUWGalgOZS2ZOLmku5VSaZVpTiZWmlZZpueVaSmoa5qi5pWIh4KSAuIDK+f3Rj/vrLWj3jcAtx9fz8TiPh/d1rnPO59webt8ervs6FsMwDAEAAAAm4ObqAgAAAIDSQrgFAACAaRBuAQAAYBqEWwAAAJgG4RYAAACmQbgFAACAaRBuAQAAYBqEWwAAAJgG4RYAAACmQbgFTOr555+XxWIpl2P97W9/09/+9jfb6/Xr18tisejTTz8tl+P37dtX4eHh5XKsksrNzdVjjz2mkJAQWSwWDRkypFT2W/her1+/3qntLBaLEhMTS6WGG0lpXvfh4eHq27dvqewLQPkh3AIVQFJSkiwWi23x9vZWaGiooqOjNWPGDJ0+fbpUjpOWlqbnn39eKSkppbK/0nQj1+aIyZMnKykpSYMGDdIHH3yghx9++Kp9w8PD7f6+fX199Ze//EXvv/9+OVZ8deHh4erWrZury6hwCoN34VK5cmVFRERo9OjRysnJKfXjVfSfGaCkPFxdAADHTZgwQbVr19aFCxeUnp6u9evXa8iQIXr11Vf1xRdfqGnTpra+o0eP1rPPPuvU/tPS0jR+/HiFh4erefPmDm+3atUqp45TEteq7T//+Y8KCgrKvIbrsXbtWrVt21bjxo1zqH/z5s01fPhwSdLx48f1zjvvKD4+Xnl5eRowYICt3x133KFz587J09OzTOq+me3bt09ubqV/D2jWrFmqUqWKcnNztWrVKk2aNElr167Vpk2bSvW3LSX9eQYqOsItUIF06dJFrVu3tr0eNWqU1q5dq27duunee+/V3r175ePjI0ny8PCQh0fZ/oifPXtWlStXdnmwqlSpkkuP74jMzExFREQ43P+2227TQw89ZHvdt29f/elPf9K0adPswq2bm5u8vb1LtVb8zsvLq0z227NnT916662SpCeeeEKxsbFavHixvvvuO0VGRpbJMYGbCcMSgAru7rvv1pgxY3T06FF9+OGHtvbixh6uXr1a7du3l7+/v6pUqaLbb79d//rXvyT9Pnbzz3/+syTp0Ucftf3qNCkpSdLv42obN26s7du364477lDlypVt21455rbQpUuX9K9//UshISHy9fXVvffeq2PHjtn1udq4xsv3+Ue1FTfm9syZMxo+fLjCwsLk5eWl22+/XS+//LIMw7DrVzj29PPPP1fjxo3l5eWlRo0aacWKFcW/4VfIzMxU//79FRwcLG9vbzVr1kxz5861rS8cE3v48GF9+eWXttqPHDni0P4LBQYGqkGDBjp06JBde3Fjbg8cOKDY2FiFhITI29tbNWrUUJ8+fZSdnX3NY0ycOFFubm56/fXXnartaj788EO1atVKPj4+CggIUJ8+fez+/hMTE1WlShWdPXu2yLYPPPCAQkJCdOnSJVvb8uXL1aFDB/n6+qpq1aqKiYnR7t27/7COa13313LltVk4PGjTpk0aNmyYAgMD5evrq3/84x86ceLEH+7vau6++25J0uHDhyU5fu1ez89zSa8RoCLgzi1gAg8//LD+9a9/adWqVXZ39S63e/dudevWTU2bNtWECRPk5eWlgwcPatOmTZKkhg0basKECRo7dqwGDhyoDh06SJL++te/2vbx22+/qUuXLurTp48eeughBQcHX7OuSZMmyWKxaOTIkcrMzNT06dMVFRWllJQU2x1mRzhS2+UMw9C9996rdevWqX///mrevLlWrlypESNG6Ndff9W0adPs+n/77bdavHix/vnPf6pq1aqaMWOGYmNjlZqaqmrVql21rnPnzulvf/ubDh48qMTERNWuXVuffPKJ+vbtq6ysLD311FNq2LChPvjgAw0dOlQ1atSwDTUIDAx0+Pwl6eLFi/rll190yy23XLNffn6+oqOjlZeXpyeffFIhISH69ddftWzZMmVlZcnPz6/Y7UaPHq3Jkyfrrbfeuuo15IxJkyZpzJgx6tWrlx577DGdOHFCr7/+uu644w798MMP8vf3V+/evTVz5kx9+eWXuv/++23bnj17VkuXLlXfvn3l7u4uSfrggw8UHx+v6OhovfTSSzp79qxmzZql9u3b64cffrjqFwr/6LoviSeffFK33HKLxo0bpyNHjmj69OlKTEzUwoULS7S/wv+wVKtWzeFr93p+nkt6jQAVhgHghjdnzhxDkrFt27ar9vHz8zNatGhhez1u3Djj8h/xadOmGZKMEydOXHUf27ZtMyQZc+bMKbLuzjvvNCQZs2fPLnbdnXfeaXu9bt06Q5Jx2223GTk5Obb2jz/+2JBkvPbaa7a2WrVqGfHx8X+4z2vVFh8fb9SqVcv2+vPPPzckGRMnTrTr17NnT8NisRgHDx60tUkyPD097dp27txpSDJef/31Ise63PTp0w1Jxocffmhry8/PNyIjI40qVarYnXutWrWMmJiYa+7v8r6dOnUyTpw4YZw4ccLYtWuX8fDDDxuSjISEBLu+he/1unXrDMMwjB9++MGQZHzyySfXPMbl+xo+fLjh5uZmJCUlOVzftc7lyJEjhru7uzFp0iS79l27dhkeHh629oKCAuO2224zYmNj7foVXicbN240DMMwTp8+bfj7+xsDBgyw65eenm74+fnZtZfkur/WeV5+bRb+HEZFRRkFBQW29qFDhxru7u5GVlbWNfdXWNu+ffuMEydOGIcPHzbeeustw8vLywgODjbOnDnj8LV7PT/Pjl4jQEXFsATAJKpUqXLNWRP8/f0lSUuWLCnxl6+8vLz06KOPOtz/kUceUdWqVW2ve/bsqerVq+urr74q0fEd9dVXX8nd3V2DBw+2ax8+fLgMw9Dy5cvt2qOiolSnTh3b66ZNm8pqternn3/+w+OEhITogQcesLVVqlRJgwcPVm5urjZs2FDic1i1apUCAwMVGBioJk2a6IMPPtCjjz6qf//739fcrvCu28qVK4v9df/lDMNQYmKiXnvtNX344YeKj48vcb2XW7x4sQoKCtSrVy/973//sy0hISGqV6+e1q1bJ+n3ISH333+/vvrqK+Xm5tq2X7hwoW677Ta1b99e0u+/fs/KytIDDzxgtz93d3e1adPGtr/ilMZ1f6WBAwfaDfnp0KGDLl26pKNHjzq0/e23367AwEDVrl1bjz/+uOrWrasvv/xSlStXdvjavZ7zcuYaASoiwi1gErm5uXZB8kq9e/dWu3bt9Nhjjyk4OFh9+vTRxx9/7NQ/jLfddptTXx6rV6+e3WuLxaK6des6Pd7UWUePHlVoaGiR96Nhw4a29ZerWbNmkX3ccsstOnXq1B8ep169ekW+UX+14zijTZs2Wr16tVasWKGXX35Z/v7+OnXq1B++/7Vr19awYcP0zjvv6NZbb1V0dLRmzpxZ7FjK999/XzNnztTrr79uF9Cv14EDB2QYhurVq2cL6IXL3r17lZmZaevbu3dvnTt3Tl988YWk36/jr776Svfff78tQB44cEDS72NTr9zfqlWr7PZ3pdK47q905fVSOFTkj66XQosWLdLq1au1fv16HTx4UP/973/VqlUrSY5fu9dzXs5cI0BFxJhbwAR++eUXZWdnq27dulft4+Pjo40bN2rdunX68ssvtWLFCi1cuFB33323Vq1aZRvbeC3OjJN11NWmPrp06ZJDNZWGqx3HuOILPOXp1ltvVVRUlCQpOjpaDRo0ULdu3fTaa69p2LBh19z2lVdeUd++fbVkyRKtWrVKgwcP1pQpU/Tdd9+pRo0atn7t2rVTSkqK3njjDfXq1UsBAQGlUntBQYEsFouWL19e7HtbpUoV25/btm2r8PBwffzxx3rwwQe1dOlSnTt3Tr1797bbn/T7uNuQkJAi+7vWrCClcd1f6XqvlzvuuMM2W0JJXe95OXqNABURd24BE/jggw8k/R6CrsXNzU0dO3bUq6++qj179tjm17z818SlqfCOWyHDMHTw4EG7L//ccsstysrKKrLtlXc9namtVq1aSktLKzJM46effrKtLw21atXSgQMHitwtK+3jSFJMTIzuvPNOTZ48WWfOnPnD/k2aNNHo0aO1ceNGffPNN/r11181e/Zsuz5169bVqlWrlJaWps6dO5faw0Dq1KkjwzBUu3ZtRUVFFVnatm1r179Xr15asWKFcnJytHDhQoWHh9v1KRwyEhQUVOz+ipup43J/dN3fSJy5dq/359mRawSoiAi3QAW3du1avfDCC6pdu7bi4uKu2u/kyZNF2gonds/Ly5Mk+fr6SlKxYbMk3n//fbt/pD/99FMdP35cXbp0sbXVqVNH3333nfLz821ty5YtKzJlmDO1de3aVZcuXdIbb7xh1z5t2jRZLBa741+Prl27Kj093e5b8hcvXtTrr7+uKlWq6M477yyV4xQaOXKkfvvtN/3nP/+5ap+cnBxdvHjRrq1JkyZyc3Oz/T1frmnTpvrqq6+0d+9e3XPPPTp37tx119mjRw+5u7tr/PjxRe5mGoah3377za6td+/eysvL09y5c7VixQr16tXLbn10dLSsVqsmT56sCxcuFDnetabhcuS6v5E4eu1ez8+zs9cIUNEwLAGoQJYvX66ffvpJFy9eVEZGhtauXavVq1erVq1a+uKLL645mf+ECRO0ceNGxcTEqFatWsrMzNSbb76pGjVq2L64U6dOHfn7+2v27NmqWrWqfH191aZNG9WuXbtE9QYEBKh9+/Z69NFHlZGRoenTp6tu3bp2U0099thj+vTTT9W5c2f16tVLhw4d0ocffmj3BS9na7vnnnt011136bnnntORI0fUrFkzrVq1SkuWLNGQIUOK7LukBg4cqLfeekt9+/bV9u3bFR4erk8//VSbNm3S9OnTrzkGuiS6dOmixo0b69VXX1VCQkKxD69Yu3atEhMTdf/996t+/fq6ePGiPvjgA7m7uys2NrbY/bZt21ZLlixR165d1bNnT33++ed/+GCMgwcPauLEiUXaW7RooZiYGE2cOFGjRo3SkSNH1L17d1WtWlWHDx/WZ599poEDB+rpp5+2bdOyZUvVrVtXzz33nPLy8uyGJEiS1WrVrFmz9PDDD6tly5bq06ePAgMDlZqaqi+//FLt2rUrEgYLOXLd30gcvXav5+d5586dTl8jQIXiqmkaADiucAqiwsXT09MICQkx/v73vxuvvfaa3ZRTha6cEmnNmjXGfffdZ4SGhhqenp5GaGio8cADDxj79++3227JkiVGRESE4eHhYTeN0J133mk0atSo2PquNhXYRx99ZIwaNcoICgoyfHx8jJiYGOPo0aNFtn/llVeM2267zfDy8jLatWtnfP/990X2ea3arpwKzDB+nz5q6NChRmhoqFGpUiWjXr16xr///W+7KZwMw35KrMtdbYqyK2VkZBiPPvqoceuttxqenp5GkyZNip2uzNmpwK7WNykpye7cr5wK7Oeffzb69etn1KlTx/D29jYCAgKMu+66y/j666/t9lPceS9ZssTw8PAwevfubVy6dOma9V1+PV6+9O/f39Zv0aJFRvv27Q1fX1/D19fXaNCggZGQkGDs27evyD6fe+45Q5JRt27dqx533bp1RnR0tOHn52d4e3sbderUMfr27Wt8//33tj4lve6vdp7FTQV25ZR8V/4dXE1hbX80LZkj1+71/Dw7eo0AFZXFMFz4jQkAAACgFDHmFgAAAKZBuAUAAIBpEG4BAABgGoRbAAAAmAbhFgAAAKZBuAUAAIBp8BAH/f7c8rS0NFWtWrXUHz8KAACA62cYhk6fPq3Q0FC5uV39/izhVlJaWprCwsJcXQYAAAD+wLFjx1SjRo2rrifcSrZHZB47dkxWq9XF1QAAAOBKOTk5CgsL+8NHmxNuJdtQBKvVSrgFAAC4gf3REFK+UAYAAADTINwCAADANAi3AAAAMA3CLQAAAEyDcAsAAADTINwCAADANAi3AAAAMA3CLQAAAEyDcAsAAADTINwCAADANAi3AAAAMA3CLQAAAEyDcAsAAADTINwCAADANAi3AAAAMA0PVxeACsxicXUFuFkYhqsrAABUENy5BQAAgGkQbgEAAGAahFsAAACYBuEWAAAApkG4BQAAgGkQbgEAAGAahFsAAACYBuEWAAAApkG4BQAAgGkQbgEAAGAahFsAAACYBuEWAAAApkG4BQAAgGkQbgEAAGAahFsAAACYhkvD7aVLlzRmzBjVrl1bPj4+qlOnjl544QUZhmHrYxiGxo4dq+rVq8vHx0dRUVE6cOCA3X5OnjypuLg4Wa1W+fv7q3///srNzS3v0wEAAICLuTTcvvTSS5o1a5beeOMN7d27Vy+99JKmTp2q119/3dZn6tSpmjFjhmbPnq0tW7bI19dX0dHROn/+vK1PXFycdu/erdWrV2vZsmXauHGjBg4c6IpTAgAAgAtZjMtvk5azbt26KTg4WO+++66tLTY2Vj4+Pvrwww9lGIZCQ0M1fPhwPf3005Kk7OxsBQcHKykpSX369NHevXsVERGhbdu2qXXr1pKkFStWqGvXrvrll18UGhr6h3Xk5OTIz89P2dnZslqtZXOyZmSxuLoC3Cxc9zEFALhBOJrXXHrn9q9//avWrFmj/fv3S5J27typb7/9Vl26dJEkHT58WOnp6YqKirJt4+fnpzZt2ig5OVmSlJycLH9/f1uwlaSoqCi5ublpy5YtxR43Ly9POTk5dgsAAAAqPg9XHvzZZ59VTk6OGjRoIHd3d126dEmTJk1SXFycJCk9PV2SFBwcbLddcHCwbV16erqCgoLs1nt4eCggIMDW50pTpkzR+PHjS/t0AAAA4GIuvXP78ccfa968eZo/f7527NihuXPn6uWXX9bcuXPL9LijRo1Sdna2bTl27FiZHg8AAADlw6V3bkeMGKFnn31Wffr0kSQ1adJER48e1ZQpUxQfH6+QkBBJUkZGhqpXr27bLiMjQ82bN5ckhYSEKDMz026/Fy9e1MmTJ23bX8nLy0teXl5lcEYAAABwJZfeuT179qzc3OxLcHd3V0FBgSSpdu3aCgkJ0Zo1a2zrc3JytGXLFkVGRkqSIiMjlZWVpe3bt9v6rF27VgUFBWrTpk05nAUAAABuFC69c3vPPfdo0qRJqlmzpho1aqQffvhBr776qvr16ydJslgsGjJkiCZOnKh69eqpdu3aGjNmjEJDQ9W9e3dJUsOGDdW5c2cNGDBAs2fP1oULF5SYmKg+ffo4NFMCAAAAzMOl4fb111/XmDFj9M9//lOZmZkKDQ3V448/rrFjx9r6PPPMMzpz5owGDhyorKwstW/fXitWrJC3t7etz7x585SYmKiOHTvKzc1NsbGxmjFjhitOCQAAAC7k0nlubxTMc1tCzHOL8sLHFADc9CrEPLcAAABAaSLcAgAAwDQItwAAADANwi0AAABMg3ALAAAA0yDcAgAAwDQItwAAADANwi0AAABMg3ALAAAA0yDcAgAAwDQItwAAADANwi0AAABMg3ALAAAA0yDcAgAAwDQItwAAADANwi0AAABMg3ALAAAA0yDcAgAAwDQItwAAADANwi0AAABMg3ALAAAA0yDcAgAAwDQItwAAADANwi0AAABMg3ALAAAA0yDcAgAAwDQItwAAADANwi0AAABMg3ALAAAA0yDcAgAAwDQItwAAADANwi0AAABMw6XhNjw8XBaLpciSkJAgSTp//rwSEhJUrVo1ValSRbGxscrIyLDbR2pqqmJiYlS5cmUFBQVpxIgRunjxoitOBwAAAC7m0nC7bds2HT9+3LasXr1aknT//fdLkoYOHaqlS5fqk08+0YYNG5SWlqYePXrYtr906ZJiYmKUn5+vzZs3a+7cuUpKStLYsWNdcj4AAABwLYthGIariyg0ZMgQLVu2TAcOHFBOTo4CAwM1f/589ezZU5L0008/qWHDhkpOTlbbtm21fPlydevWTWlpaQoODpYkzZ49WyNHjtSJEyfk6enp0HFzcnLk5+en7OxsWa3WMjs/07FYXF0BbhY3zscUAMBFHM1rN8yY2/z8fH344Yfq16+fLBaLtm/frgsXLigqKsrWp0GDBqpZs6aSk5MlScnJyWrSpIkt2EpSdHS0cnJytHv37qseKy8vTzk5OXYLAAAAKr4bJtx+/vnnysrKUt++fSVJ6enp8vT0lL+/v12/4OBgpaen2/pcHmwL1xeuu5opU6bIz8/PtoSFhZXeiQAAAMBlbphw++6776pLly4KDQ0t82ONGjVK2dnZtuXYsWNlfkwAAACUPQ9XFyBJR48e1ddff63Fixfb2kJCQpSfn6+srCy7u7cZGRkKCQmx9dm6davdvgpnUyjsUxwvLy95eXmV4hkAAADgRnBD3LmdM2eOgoKCFBMTY2tr1aqVKlWqpDVr1tja9u3bp9TUVEVGRkqSIiMjtWvXLmVmZtr6rF69WlarVREREeV3AgAAALghuPzObUFBgebMmaP4+Hh5ePxfOX5+furfv7+GDRumgIAAWa1WPfnkk4qMjFTbtm0lSZ06dVJERIQefvhhTZ06Venp6Ro9erQSEhK4MwsAAHATcnm4/frrr5Wamqp+/foVWTdt2jS5ubkpNjZWeXl5io6O1ptvvmlb7+7urmXLlmnQoEGKjIyUr6+v4uPjNWHChPI8BQAAANwgbqh5bl2FeW5LiHluUV74mAKAm16Fm+cWAAAAuF6EWwAAAJgG4RYAAACmQbgFAACAaRBuAQAAYBqEWwAAAJgG4RYAAACmQbgFAACAaRBuAQAAYBqEWwAAAJgG4RYAAACmQbgFAACAaRBuAQAAYBqEWwAAAJgG4RYAAACmQbgFAACAaRBuAQAAYBqEWwAAAJgG4RYAAACmQbgFAACAaRBuAQAAYBqEWwAAAJgG4RYAAACmQbgFAACAaRBuAQAAYBqEWwAAAJgG4RYAAACmQbgFAACAaRBuAQAAYBqEWwAAAJgG4RYAAACmQbgFAACAaRBuAQAAYBouD7e//vqrHnroIVWrVk0+Pj5q0qSJvv/+e9t6wzA0duxYVa9eXT4+PoqKitKBAwfs9nHy5EnFxcXJarXK399f/fv3V25ubnmfCgAAAFzMpeH21KlTateunSpVqqTly5drz549euWVV3TLLbfY+kydOlUzZszQ7NmztWXLFvn6+io6Olrnz5+39YmLi9Pu3bu1evVqLVu2TBs3btTAgQNdcUoAAABwIYthGIarDv7ss89q06ZN+uabb4pdbxiGQkNDNXz4cD399NOSpOzsbAUHByspKUl9+vTR3r17FRERoW3btql169aSpBUrVqhr16765ZdfFBoa+od15OTkyM/PT9nZ2bJaraV3gmZnsbi6AtwsXPcxBQC4QTia11x65/aLL75Q69atdf/99ysoKEgtWrTQf/7zH9v6w4cPKz09XVFRUbY2Pz8/tWnTRsnJyZKk5ORk+fv724KtJEVFRcnNzU1btmwp9rh5eXnKycmxWwAAAFDxuTTc/vzzz5o1a5bq1aunlStXatCgQRo8eLDmzp0rSUpPT5ckBQcH220XHBxsW5eenq6goCC79R4eHgoICLD1udKUKVPk5+dnW8LCwkr71AAAAOACLg23BQUFatmypSZPnqwWLVpo4MCBGjBggGbPnl2mxx01apSys7Nty7Fjx8r0eAAAACgfLg231atXV0REhF1bw4YNlZqaKkkKCQmRJGVkZNj1ycjIsK0LCQlRZmam3fqLFy/q5MmTtj5X8vLyktVqtVsAAABQ8bk03LZr10779u2za9u/f79q1aolSapdu7ZCQkK0Zs0a2/qcnBxt2bJFkZGRkqTIyEhlZWVp+/bttj5r165VQUGB2rRpUw5nAQAAgBuFhysPPnToUP31r3/V5MmT1atXL23dulVvv/223n77bUmSxWLRkCFDNHHiRNWrV0+1a9fWmDFjFBoaqu7du0v6/U5v586dbcMZLly4oMTERPXp08ehmRIAAABgHi6dCkySli1bplGjRunAgQOqXbu2hg0bpgEDBtjWG4ahcePG6e2331ZWVpbat2+vN998U/Xr17f1OXnypBITE7V06VK5ubkpNjZWM2bMUJUqVRyqganASoipwFBemAoMAG56juY1l4fbGwHhtoQItygvfEwBwE2vQsxzCwAAAJQmwi0AAABMg3ALAAAA0yDcAgAAwDQItwAAADANp8PtuXPndPbsWdvro0ePavr06Vq1alWpFgYAAAA4y+lwe9999+n999+XJGVlZalNmzZ65ZVXdN9992nWrFmlXiAAAADgKKfD7Y4dO9ShQwdJ0qeffqrg4GAdPXpU77//vmbMmFHqBQIAAACOcjrcnj17VlWrVpUkrVq1Sj169JCbm5vatm2ro0ePlnqBAAAAgKOcDrd169bV559/rmPHjmnlypXq1KmTJCkzM5OnewEAAMClnA63Y8eO1dNPP63w8HC1adNGkZGRkn6/i9uiRYtSLxAAAABwlMUwnH9oe3p6uo4fP65mzZrJze33fLx161b5+fnp9ttvL/Uiy5qjzyrGFSwWV1eAm4XzH1MAAJNxNK85fee2X79+8vX1VYsWLWzBVpIaNWqkl156qWTVAgAAAKXA6XA7d+5cnTt3rkj7uXPnbFOEAQAAAK7g4WjHnJwcGYYhwzB0+vRpeXt729ZdunRJX331lYKCgsqkSAAAAMARDodbf39/WSwWWSwW1a9fv8h6i8Wi8ePHl2pxAAAAgDMcDrfr1q2TYRi6++67tWjRIgUEBNjWeXp6qlatWgoNDS2TIgEAAABHOBxu77zzTknS4cOHVbNmTVn4pjwAAABuME5/oWzv3r3atGmT7fXMmTPVvHlzPfjggzp16lSpFgcAAAA4w+lwO2LECOXk5EiSdu3apWHDhqlr1646fPiwhg0bVuoFAgAAAI5yeFhCocOHDysiIkKStGjRIt1zzz2aPHmyduzYoa5du5Z6gQAAAICjnL5z6+npqbNnz0qSvv76a3Xq1EmSFBAQYLujCwAAALiC03du27dvr2HDhqldu3baunWrFi5cKEnav3+/atSoUeoFAgAAAI5y+s7tG2+8IQ8PD3366aeaNWuWbrvtNknS8uXL1blz51IvEAAAAHCUxTAMw9VFuFpOTo78/PyUnZ0tq9Xq6nIqDqaDQ3nhYwoAbnqO5jWnhyVIvz9u9/PPP9fevXslSY0aNdK9994rd3f3klULAAAAlAKnw+3BgwfVtWtX/frrr7r99tslSVOmTFFYWJi+/PJL1alTp9SLBAAAABzh9JjbwYMHq06dOjp27Jh27NihHTt2KDU1VbVr19bgwYPLokYAAADAIU7fud2wYYO+++47BQQE2NqqVaumF198Ue3atSvV4gAAAABnOH3n1svLS6dPny7SnpubK09Pz1IpCgAAACgJp8Ntt27dNHDgQG3ZskWGYcgwDH333Xd64okndO+995ZFjQAAAIBDnA63M2bMUJ06dRQZGSlvb295e3urXbt2qlu3rl577bWyqBEAAABwiNPh1t/fX0uWLNH+/fv16aef6tNPP9W+ffv02Wefyc/Pz6l9Pf/887JYLHZLgwYNbOvPnz+vhIQEVatWTVWqVFFsbKwyMjLs9pGamqqYmBhVrlxZQUFBGjFihC5evOjsaQEAAMAEHP5CWUFBgf7973/riy++UH5+vjp27Khx48bJx8fnugpo1KiRvv766/8ryOP/Sho6dKi+/PJLffLJJ/Lz81NiYqJ69OihTZs2Sfp9vt2YmBiFhIRo8+bNOn78uB555BFVqlRJkydPvq66AAAAUPE4fOd20qRJ+te//qUqVarotttu02uvvaaEhITrLsDDw0MhISG25dZbb5UkZWdn691339Wrr76qu+++W61atdKcOXO0efNmfffdd5KkVatWac+ePfrwww/VvHlzdenSRS+88IJmzpyp/Pz8664NAAAAFYvD4fb999/Xm2++qZUrV+rzzz/X0qVLNW/ePBUUFFxXAQcOHFBoaKj+9Kc/KS4uTqmpqZKk7du368KFC4qKirL1bdCggWrWrKnk5GRJUnJyspo0aaLg4GBbn+joaOXk5Gj37t1XPWZeXp5ycnLsFgAAAFR8Dofb1NRUde3a1fY6KipKFotFaWlpJT54mzZtlJSUpBUrVmjWrFk6fPiwOnTooNOnTys9PV2enp7y9/e32yY4OFjp6emSpPT0dLtgW7i+cN3VTJkyRX5+frYlLCysxOcAAACAG4fDY24vXrwob29vu7ZKlSrpwoULJT54ly5dbH9u2rSp2rRpo1q1aunjjz++7rG81zJq1CgNGzbM9jonJ4eACwAAYAIOh1vDMNS3b195eXnZ2s6fP68nnnhCvr6+trbFixeXuBh/f3/Vr19fBw8e1N///nfl5+crKyvL7u5tRkaGQkJCJEkhISHaunWr3T4KZ1Mo7FMcLy8vu/MAAACAOTg8LCE+Pl5BQUF2v85/6KGHFBoaatd2PXJzc3Xo0CFVr15drVq1UqVKlbRmzRrb+n379ik1NVWRkZGSpMjISO3atUuZmZm2PqtXr5bValVERMR11QIAAICKx2IYhuGqgz/99NO65557VKtWLaWlpWncuHFKSUnRnj17FBgYqEGDBumrr75SUlKSrFarnnzySUnS5s2bJf0+FVjz5s0VGhqqqVOnKj09XQ8//LAee+wxp6YCy8nJkZ+fn7Kzs2W1WsvkXE3JYnF1BbhZuO5jCgBwg3A0rzk8LKEs/PLLL3rggQf022+/KTAwUO3bt9d3332nwMBASdK0adPk5uam2NhY5eXlKTo6Wm+++aZte3d3dy1btkyDBg1SZGSkfH19FR8frwkTJrjqlAAAAOBCLr1ze6Pgzm0JcecW5YWPKQC46Tma15x+/C4AAABwoyLcAgAAwDQcCrctW7bUqVOnJEkTJkzQ2bNny7QoAAAAoCQcCrd79+7VmTNnJEnjx49Xbm5umRYFAAAAlIRDsyU0b95cjz76qNq3by/DMPTyyy+rSpUqxfYdO3ZsqRYIAAAAOMqh2RL27duncePG6dChQ9qxY4ciIiLk4VE0F1ssFu3YsaNMCi1LzJZQQsyWgPLCbAkAcNNzNK85PRWYm5ub0tPTFRQUdN1F3igItyVEuEV5IdwCwE2vzB7iUFBQcF2FAQAAAGWlRE8oO3TokKZPn669e/dKkiIiIvTUU0+pTp06pVocAAAA4Ayn57lduXKlIiIitHXrVjVt2lRNmzbVli1b1KhRI61evbosagQAAAAc4vSY2xYtWig6OlovvviiXfuzzz6rVatW8YWymwljblFeGHMLADe9Mnv87t69e9W/f/8i7f369dOePXuc3R0AAABQapwOt4GBgUpJSSnSnpKSYqoZFAAAAFDxOP2FsgEDBmjgwIH6+eef9de//lWStGnTJr300ksaNmxYqRcIAAAAOMrpMbeGYWj69Ol65ZVXlJaWJkkKDQ3ViBEjNHjwYFkq4DhMxtyWUAX8u0YFxZhbALjpldlDHC53+vRpSVLVqlVLuosbAuG2hAi3KC+EWwC46ZXZQxwuV9FDLQAAAMzF6S+UAQAAADcqwi0AAABMg3ALAAAA03Aq3F64cEEdO3bUgQMHyqoeAAAAoMScCreVKlXSjz/+WFa1AAAAANfF6WEJDz30kN59992yqAUAAAC4Lk5PBXbx4kW99957+vrrr9WqVSv5+vrarX/11VdLrTgAAADAGU6H2//+979q2bKlJGn//v126yri08kAAABgHk6H23Xr1pVFHQAAAMB1K/FUYAcPHtTKlSt17tw5SdJ1PMUXAAAAKBVOh9vffvtNHTt2VP369dW1a1cdP35cktS/f38NHz681AsEAAAAHOV0uB06dKgqVaqk1NRUVa5c2dbeu3dvrVixolSLAwAAAJzh9JjbVatWaeXKlapRo4Zde7169XT06NFSKwwAAABwltN3bs+cOWN3x7bQyZMn5eXlVSpFAQAAACXhdLjt0KGD3n//fdtri8WigoICTZ06VXfddVepFgcAAAA4w+lwO3XqVL399tvq0qWL8vPz9cwzz6hx48bauHGjXnrppRIX8uKLL8pisWjIkCG2tvPnzyshIUHVqlVTlSpVFBsbq4yMDLvtUlNTFRMTo8qVKysoKEgjRozQxYsXS1wHAAAAKi6nw23jxo21f/9+tW/fXvfdd5/OnDmjHj166IcfflCdOnVKVMS2bdv01ltvqWnTpnbtQ4cO1dKlS/XJJ59ow4YNSktLU48ePWzrL126pJiYGOXn52vz5s2aO3eukpKSNHbs2BLVAQAAgIrNYrh4gtrc3Fy1bNlSb775piZOnKjmzZtr+vTpys7OVmBgoObPn6+ePXtKkn766Sc1bNhQycnJatu2rZYvX65u3bopLS1NwcHBkqTZs2dr5MiROnHihDw9PR2qIScnR35+fsrOzpbVai2zczUdnkiH8sI82gBw03M0r5XoIQ6nTp3Syy+/rP79+6t///565ZVXdPLkyRIVmpCQoJiYGEVFRdm1b9++XRcuXLBrb9CggWrWrKnk5GRJUnJyspo0aWILtpIUHR2tnJwc7d69+6rHzMvLU05Ojt0CAACAis/pcLtx40aFh4drxowZOnXqlE6dOqUZM2aodu3a2rhxo1P7WrBggXbs2KEpU6YUWZeeni5PT0/5+/vbtQcHBys9Pd3W5/JgW7i+cN3VTJkyRX5+frYlLCzMqboBAABwY3I63CYkJKh37946fPiwFi9erMWLF+vnn39Wnz59lJCQ4PB+jh07pqeeekrz5s2Tt7e3s2Vcl1GjRik7O9u2HDt2rFyPDwAAgLLhdLg9ePCghg8fLnd3d1ubu7u7hg0bpoMHDzq8n+3btyszM1MtW7aUh4eHPDw8tGHDBs2YMUMeHh4KDg5Wfn6+srKy7LbLyMhQSEiIJCkkJKTI7AmFrwv7FMfLy0tWq9VuAQAAQMXndLht2bKl9u7dW6R97969atasmcP76dixo3bt2qWUlBTb0rp1a8XFxdn+XKlSJa1Zs8a2zb59+5SamqrIyEhJUmRkpHbt2qXMzExbn9WrV8tqtSoiIsLZUwMAAEAF59Djd3/88UfbnwcPHqynnnpKBw8eVNu2bSVJ3333nWbOnKkXX3zR4QNXrVpVjRs3tmvz9fVVtWrVbO39+/fXsGHDFBAQIKvVqieffFKRkZG243bq1EkRERF6+OGHNXXqVKWnp2v06NFKSEjgaWkAAAA3IYfCbfPmzWWxWHT5rGHPPPNMkX4PPvigevfuXWrFTZs2TW5uboqNjVVeXp6io6P15ptv2ta7u7tr2bJlGjRokCIjI+Xr66v4+HhNmDCh1GoAAABAxeHQPLdHjx51eIe1atW6roJcgXluS4h5blFemOcWAG56juY1h+7cVsTACgAAgJuPQ+H2Smlpafr222+VmZmpgoICu3WDBw8ulcIAAAAAZzkdbpOSkvT444/L09NT1apVk+WyX01bLBbCLQAAAFzG6XA7ZswYjR07VqNGjZKbW4me3gsAAACUCafT6dmzZ9WnTx+CLQAAAG44TifU/v3765NPPimLWgAAAIDr4tBUYJe7dOmSunXrpnPnzqlJkyaqVKmS3fpXX321VAssD0wFVkJMBYbywlRgAHDTK9WpwC43ZcoUrVy5UrfffrskFflCGQAAAOAqTofbV155Re+995769u1bBuUAAAAAJef0mFsvLy+1a9euLGoBAAAArovT4fapp57S66+/Xha1AAAAANfF6WEJW7du1dq1a7Vs2TI1atSoyBfKFi9eXGrFAQAAAM5wOtz6+/urR48eZVELAAAAcF2cDrdz5swpizoAAACA68ZjxgAAAGAaTt+5rV279jXns/3555+vqyAAAACgpJwOt0OGDLF7feHCBf3www9asWKFRowYUVp1AQAAAE5zOtw+9dRTxbbPnDlT33///XUXBAAAAJRUqY257dKlixYtWlRauwMAAACcVmrh9tNPP1VAQEBp7Q4AAABwmtPDElq0aGH3hTLDMJSenq4TJ07ozTffLNXiAAAAAGc4HW67d+9u99rNzU2BgYH629/+pgYNGpRWXQAAAIDTLIZhGK4uwtVycnLk5+en7OxsWa1WV5dTcVxjSjigVPExBQA3PUfzGg9xAAAAgGk4PCzBzc3tmg9vkCSLxaKLFy9ed1EAAABASTgcbj/77LOrrktOTtaMGTNUUFBQKkUBAAAAJeFwuL3vvvuKtO3bt0/PPvusli5dqri4OE2YMKFUiwMAAACcUaIxt2lpaRowYICaNGmiixcvKiUlRXPnzlWtWrVKuz4AAADAYU6F2+zsbI0cOVJ169bV7t27tWbNGi1dulSNGzcuq/oAAAAAhzk8LGHq1Kl66aWXFBISoo8++qjYYQoAAACAKzk8z62bm5t8fHwUFRUld3f3q/ZbvHhxqRVXXpjntoSY5xblhXluAeCm52hec/jO7SOPPPKHU4EBAAAAruRwuE1KSirDMgAAAIDr59InlM2aNUtNmzaV1WqV1WpVZGSkli9fblt//vx5JSQkqFq1aqpSpYpiY2OVkZFht4/U1FTFxMSocuXKCgoK0ogRI3iQBAAAwE3KpeG2Ro0aevHFF7V9+3Z9//33uvvuu3Xfffdp9+7dkqShQ4dq6dKl+uSTT7RhwwalpaWpR48etu0vXbqkmJgY5efna/PmzZo7d66SkpI0duxYV50SAAAAXMjhL5SVl4CAAP373/9Wz549FRgYqPnz56tnz56SpJ9++kkNGzZUcnKy2rZtq+XLl6tbt25KS0tTcHCwJGn27NkaOXKkTpw4IU9PT4eOyRfKSogx2CgvN9bHFADABRzNay69c3u5S5cuacGCBTpz5owiIyO1fft2XbhwQVFRUbY+DRo0UM2aNZWcnCzp98f+NmnSxBZsJSk6Olo5OTm2u7/FycvLU05Ojt0CAACAis/l4XbXrl2qUqWKvLy89MQTT+izzz5TRESE0tPT5enpKX9/f7v+wcHBSk9PlySlp6fbBdvC9YXrrmbKlCny8/OzLWFhYaV7UgAAAHAJl4fb22+/XSkpKdqyZYsGDRqk+Ph47dmzp0yPOWrUKGVnZ9uWY8eOlenxAAAAUD4cngqsrHh6eqpu3bqSpFatWmnbtm167bXX1Lt3b+Xn5ysrK8vu7m1GRoZCQkIkSSEhIdq6davd/gpnUyjsUxwvLy95eXmV8pkAAADA1Vx+5/ZKBQUFysvLU6tWrVSpUiWtWbPGtm7fvn1KTU1VZGSkJCkyMlK7du1SZmamrc/q1atltVoVERFR7rUDAADAtVx653bUqFHq0qWLatasqdOnT2v+/Plav369Vq5cKT8/P/Xv31/Dhg1TQECArFarnnzySUVGRqpt27aSpE6dOikiIkIPP/ywpk6dqvT0dI0ePVoJCQncmQUAALgJuTTcZmZm6pFHHtHx48fl5+enpk2bauXKlfr73/8uSZo2bZrc3NwUGxurvLw8RUdH680337Rt7+7urmXLlmnQoEGKjIyUr6+v4uPjNWHCBFedEgAAAFzohpvn1hWY57aEmOcW5YWPKQC46VW4eW4BAACA60W4BQAAgGkQbgEAAGAahFsAAACYBuEWAAAApkG4BQAAgGkQbgEAAGAahFsAAACYBuEWAAAApkG4BQAAgGkQbgEAAGAahFsAAACYBuEWAAAApkG4BQAAgGkQbgEAAGAahFsAAACYBuEWAAAApkG4BQAAgGkQbgEAAGAahFsAAACYBuEWAAAApkG4BQAAgGkQbgEAAGAahFsAAACYBuEWAAAApkG4BQAAgGkQbgEAAGAahFsAAACYBuEWAAAApkG4BQAAgGkQbgEAAGAahFsAAACYhkvD7ZQpU/TnP/9ZVatWVVBQkLp37659+/bZ9Tl//rwSEhJUrVo1ValSRbGxscrIyLDrk5qaqpiYGFWuXFlBQUEaMWKELl68WJ6nAgAAgBuAS8Pthg0blJCQoO+++06rV6/WhQsX1KlTJ505c8bWZ+jQoVq6dKk++eQTbdiwQWlpaerRo4dt/aVLlxQTE6P8/Hxt3rxZc+fOVVJSksaOHeuKUwIAAIALWQzDMFxdRKETJ04oKChIGzZs0B133KHs7GwFBgZq/vz56tmzpyTpp59+UsOGDZWcnKy2bdtq+fLl6tatm9LS0hQcHCxJmj17tkaOHKkTJ07I09PzD4+bk5MjPz8/ZWdny2q1luk5morF4uoKcLO4cT6mAAAu4mheu6HG3GZnZ0uSAgICJEnbt2/XhQsXFBUVZevToEED1axZU8nJyZKk5ORkNWnSxBZsJSk6Olo5OTnavXt3scfJy8tTTk6O3QIAAICK74YJtwUFBRoyZIjatWunxo0bS5LS09Pl6ekpf39/u77BwcFKT0+39bk82BauL1xXnClTpsjPz8+2hIWFlfLZAAAAwBVumHCbkJCg//73v1qwYEGZH2vUqFHKzs62LceOHSvzYwIAAKDsebi6AElKTEzUsmXLtHHjRtWoUcPWHhISovz8fGVlZdndvc3IyFBISIitz9atW+32VzibQmGfK3l5ecnLy6uUzwIAAACu5tI7t4ZhKDExUZ999pnWrl2r2rVr261v1aqVKlWqpDVr1tja9u3bp9TUVEVGRkqSIiMjtWvXLmVmZtr6rF69WlarVREREeVzIgAAALghuPTObUJCgubPn68lS5aoatWqtjGyfn5+8vHxkZ+fn/r3769hw4YpICBAVqtVTz75pCIjI9W2bVtJUqdOnRQREaGHH35YU6dOVXp6ukaPHq2EhATuzgIAANxkXDoVmOUqU0nNmTNHffv2lfT7QxyGDx+ujz76SHl5eYqOjtabb75pN+Tg6NGjGjRokNavXy9fX1/Fx8frxRdflIeHY9mdqcBKiKnAUF6YCgwAbnqO5rUbap5bVyHclhDhFuWFjykAuOlVyHluAQAAgOtBuAUAAIBpEG4BAABgGoRbAAAAmAbhFgAAAKZBuAUAAIBpEG4BAABgGoRbAAAAmAbhFgAAAKZBuAUAAIBpEG4BAABgGoRbAAAAmAbhFgAAAKZBuAUAAIBpEG4BAABgGoRbAAAAmAbhFgAAAKZBuAUAAIBpEG4BAABgGoRbAAAAmAbhFgAAAKZBuAUAAIBpEG4BAABgGoRbAAAAmAbhFgAAAKZBuAUAAIBpeLi6AAAAbhjzLa6uADeLBw1XV2Ba3LkFAACAaRBuAQAAYBqEWwAAAJgG4RYAAACmQbgFAACAabg03G7cuFH33HOPQkNDZbFY9Pnnn9utNwxDY8eOVfXq1eXj46OoqCgdOHDArs/JkycVFxcnq9Uqf39/9e/fX7m5ueV4FgAAALhRuDTcnjlzRs2aNdPMmTOLXT916lTNmDFDs2fP1pYtW+Tr66vo6GidP3/e1icuLk67d+/W6tWrtWzZMm3cuFEDBw4sr1MAAADADcRiGMYNMdGaxWLRZ599pu7du0v6/a5taGiohg8frqefflqSlJ2dreDgYCUlJalPnz7au3evIiIitG3bNrVu3VqStGLFCnXt2lW//PKLQkNDHTp2Tk6O/Pz8lJ2dLavVWibnZ0oW5oNEObkxPqZwM2CeW5QX5rl1mqN57YYdc3v48GGlp6crKirK1ubn56c2bdooOTlZkpScnCx/f39bsJWkqKgoubm5acuWLVfdd15ennJycuwWAAAAVHw3bLhNT0+XJAUHB9u1BwcH29alp6crKCjIbr2Hh4cCAgJsfYozZcoU+fn52ZawsLBSrh4AAACucMOG27I0atQoZWdn25Zjx465uiQAAACUghs23IaEhEiSMjIy7NozMjJs60JCQpSZmWm3/uLFizp58qStT3G8vLxktVrtFgAAAFR8N2y4rV27tkJCQrRmzRpbW05OjrZs2aLIyEhJUmRkpLKysrR9+3Zbn7Vr16qgoEBt2rQp95oBAADgWh6uPHhubq4OHjxoe3348GGlpKQoICBANWvW1JAhQzRx4kTVq1dPtWvX1pgxYxQaGmqbUaFhw4bq3LmzBgwYoNmzZ+vChQtKTExUnz59HJ4pAQAAAObh0nD7/fff66677rK9HjZsmCQpPj5eSUlJeuaZZ3TmzBkNHDhQWVlZat++vVasWCFvb2/bNvPmzVNiYqI6duwoNzc3xcbGasaMGeV+LgAAAHC9G2aeW1dintsSYp5blBc+plBemOcW5YV5bp1W4ee5BQAAAJxFuAUAAIBpEG4BAABgGoRbAAAAmAbhFgAAAKZBuAUAAIBpEG4BAABgGoRbAAAAmAbhFgAAAKZBuAUAAIBpEG4BAABgGoRbAAAAmAbhFgAAAKZBuAUAAIBpEG4BAABgGoRbAAAAmAbhFgAAAKZBuAUAAIBpEG4BAABgGoRbAAAAmAbhFgAAAKZBuAUAAIBpEG4BAABgGoRbAAAAmAbhFgAAAKZBuAUAAIBpEG4BAABgGoRbAAAAmAbhFgAAAKZBuAUAAIBpEG4BAABgGoRbAAAAmAbhFgAAAKZhmnA7c+ZMhYeHy9vbW23atNHWrVtdXRIAAADKmSnC7cKFCzVs2DCNGzdOO3bsULNmzRQdHa3MzExXlwYAAIByZIpw++qrr2rAgAF69NFHFRERodmzZ6ty5cp67733XF0aAAAAypGHqwu4Xvn5+dq+fbtGjRpla3Nzc1NUVJSSk5OL3SYvL095eXm219nZ2ZKknJycsi0WQMnws4nyctbVBeCmweea0wpzmmEY1+xX4cPt//73P126dEnBwcF27cHBwfrpp5+K3WbKlCkaP358kfawsLAyqRHAdfLzc3UFAFC6BvC5VlKnT5+W3zX+Xajw4bYkRo0apWHDhtleFxQU6OTJk6pWrZosFosLK4PZ5eTkKCwsTMeOHZPVanV1OQBw3fhcQ3kxDEOnT59WaGjoNftV+HB76623yt3dXRkZGXbtGRkZCgkJKXYbLy8veXl52bX5+/uXVYlAEVarlX8EAJgKn2soD9e6Y1uown+hzNPTU61atdKaNWtsbQUFBVqzZo0iIyNdWBkAAADKW4W/cytJw4YNU3x8vFq3bq2//OUvmj59us6cOaNHH33U1aUBAACgHJki3Pbu3VsnTpzQ2LFjlZ6erubNm2vFihVFvmQGuJqXl5fGjRtXZFgMAFRUfK7hRmMx/mg+BQAAAKCCqPBjbgEAAIBChFsAAACYBuEWAAAApkG4BYqRlJTk9NzHffv2Vffu3V1eT0lqB1AxrF+/XhaLRVlZWa4uBbhhEW5x07laCL38H43evXtr//795VJPeHi4LBaLLBaLKleurCZNmuidd96x61Oe9QAomb59+8piseiJJ54osi4hIUEWi0V9+/Yt/8JK6Pnnn1fz5s1LbX/r1q1T165dVa1aNVWuXFkREREaPny4fv3111I7BiARboFi+fj4KCgoqNyON2HCBB0/flz//e9/9dBDD2nAgAFavny5y+oBUDJhYWFasGCBzp07Z2s7f/685s+fr5o1a7qwsv+Tn59f7sd86623FBUVpZCQEC1atEh79uzR7NmzlZ2drVdeeaXc63HGhQsXXF0CnES4BYpR3K/2J06cqKCgIFWtWlWPPfaYnn322WLvarz88suqXr26qlWrpoSEBIc+GKtWraqQkBD96U9/0siRIxUQEKDVq1dftZ6dO3fqrrvuUtWqVWW1WtWqVSt9//33xe77xIkTat26tf7xj38oLy/PofMHUDItW7ZUWFiYFi9ebGtbvHixatasqRYtWtj1zcvL0+DBgxUUFCRvb2+1b99e27Zts+vz1VdfqX79+vLx8dFdd92lI0eOFDnmt99+qw4dOsjHx0dhYWEaPHiwzpw5Y1sfHh6uF154QY888oisVqsGDhwoSRo5cqTq16+vypUr609/+pPGjBlj+7xKSkrS+PHjtXPnTttvlpKSkiRJWVlZeuyxxxQYGCir1aq7775bO3fuvOp78ssvv2jw4MEaPHiw3nvvPf3tb39TeHi47rjjDr3zzjsaO3asre+iRYvUqFEjeXl5KTw8vEjwDQ8P1+TJk9WvXz9VrVpVNWvW1Ntvv13keA888IACAgLk6+ur1q1ba8uWLbb1S5YsUcuWLeXt7a0//elPGj9+vC5evGhbb7FYNGvWLN17773y9fXVpEmTbHexP/jgA4WHh8vPz099+vTR6dOnr3recB3CLeCAefPmadKkSXrppZe0fft21axZU7NmzSrSb926dTp06JDWrVunuXPnKikpyfYPgiMKCgq0aNEinTp1Sp6enlftFxcXpxo1amjbtm3avn27nn32WVWqVKlIv2PHjqlDhw5q3LixPv30UyZZB8pBv379NGfOHNvr9957r9gnZj7zzDNatGiR5s6dqx07dqhu3bqKjo7WyZMnJf3+89ujRw/dc889SklJsf2n+nKHDh1S586dFRsbqx9//FELFy7Ut99+q8TERLt+L7/8spo1a6YffvhBY8aMkfT7f6qTkpK0Z88evfbaa/rPf/6jadOmSfp9KNTw4cPVqFEjHT9+XMePH1fv3r0lSffff78yMzO1fPlybd++XS1btlTHjh1tdV/pk08+UX5+vp555pli1xf+x3379u3q1auX+vTpo127dun555/XmDFjinyGvvLKK2rdurV++OEH/fOf/9SgQYO0b98+SVJubq7uvPNO/frrr/riiy+0c+dOPfPMMyooKJAkffPNN3rkkUf01FNPac+ePXrrrbeUlJSkSZMm2R3j+eef1z/+8Q/t2rVL/fr1s73Xn3/+uZYtW6Zly5Zpw4YNevHFF4s9J7iYAdxk4uPjDXd3d8PX19du8fb2NiQZp06dMubMmWP4+fnZtmnTpo2RkJBgt5927doZzZo1s9tvrVq1jIsXL9ra7r//fqN3797XrKdWrVqGp6en4evra3h4eBiSjICAAOPAgQO2PlfWU7VqVSMpKanY/RX2/emnn4ywsDBj8ODBRkFBgQPvDIDrER8fb9x3331GZmam4eXlZRw5csQ4cuSI4e3tbZw4ccK47777jPj4eMMwDCM3N9eoVKmSMW/ePNv2+fn5RmhoqDF16lTDMAxj1KhRRkREhN0xRo4cafucMgzD6N+/vzFw4EC7Pt98843h5uZmnDt3zjCM3z9junfv/of1//vf/zZatWplez1u3Di7z7jCfVutVuP8+fN27XXq1DHeeuutYvc7aNAgw2q1/uHxH3zwQePvf/+7XduIESPs3oNatWoZDz30kO11QUGBERQUZMyaNcswDMN46623jKpVqxq//fZbscfo2LGjMXnyZLu2Dz74wKhevbrttSRjyJAhdn3GjRtnVK5c2cjJybGrrU2bNn94Xih/3LnFTemuu+5SSkqK3XLll7gut2/fPv3lL3+xa7vytSQ1atRI7u7uttfVq1dXZmamJGny5MmqUqWKbUlNTbX1GzFihFJSUrR27Vq1adNG06ZNU926da9az7Bhw/TYY48pKipKL774og4dOmS3/ty5c+rQoYN69Oih1157TRaL5dpvCIBSExgYqJiYGCUlJWnOnDmKiYnRrbfeatfn0KFDunDhgtq1a2drq1Spkv7yl79o7969kqS9e/eqTZs2dttFRkbavd65c6eSkpLsPluio6NVUFCgw4cP2/q1bt26SJ0LFy5Uu3btFBISoipVqmj06NF2n0vF2blzp3Jzc1WtWjW7Yx4+fLjI51AhwzAc+gzau3ev3fshSe3atdOBAwd06dIlW1vTpk1tf7ZYLAoJCbF9zqakpKhFixYKCAi4av0TJkywq33AgAE6fvy4zp49a+tX3PsVHh6uqlWr2l5f/vmOG4uHqwsAXMHX17dIePzll1+ue79XDg2wWCy2X4c98cQT6tWrl21daGio7c+33nqr6tatq7p16+qTTz5RkyZN1Lp1a0VERBR7nOeff14PPvigvvzySy1fvlzjxo3TggUL9I9//EPS7896j4qK0rJlyzRixAjddttt131uABzXr18/29CAmTNnltlxcnNz9fjjj2vw4MFF1l3+BTZfX1+7dcnJyYqLi9P48eMVHR0tPz8/LViw4A+/3JWbm6vq1atr/fr1RdZdbQrC+vXrKzs7W8ePH1f16tX/+KT+wLU+Z318fK65bW5ursaPH68ePXoUWeft7W3785Xv1x8dFzcW7twCDrj99tuLfNHjytd/JCAgwBZg69atKw+P4v9vGRYWpt69e2vUqFHX3F/9+vU1dOhQrVq1Sj169LAb4+fm5qYPPvhArVq10l133aW0tDSnagVwfTp37qz8/HxduHBB0dHRRdbXqVNHnp6e2rRpk63twoUL2rZtm+0/tQ0bNtTWrVvttvvuu+/sXrds2VJ79uyx+2wpXK41bn/z5s2qVauWnnvuObVu3Vr16tXT0aNH7fp4enra3TEtPF56ero8PDyKHO/Ku9OFevbsKU9PT02dOrXY9YVz9jZs2NDu/ZCkTZs2qX79+na/EbuWpk2bKiUl5arjf1u2bKl9+/YV+365uRGJzIK/ScABTz75pN59913NnTtXBw4c0MSJE/Xjjz+W2a/7n3rqKS1durTYGRDOnTunxMRErV+/XkePHtWmTZu0bds2NWzY0K6fu7u75s2bp2bNmunuu+9Wenp6mdQKoCh3d3ft3btXe/bsKTaY+fr6atCgQRoxYoRWrFihPXv2aMCAATp79qz69+8v6fff9hw4cEAjRozQvn37NH/+/CJfrho5cqQ2b96sxMREpaSk6MCBA1qyZEmRL5RdqV69ekpNTdWCBQt06NAhzZgxQ5999pldn/DwcB0+fFgpKSn63//+p7y8PEVFRSkyMlLdu3fXqlWrdOTIEW3evFnPPffcVWdsCQsL07Rp0/Taa6+pf//+2rBhg+2z6/HHH9cLL7wgSRo+fLjWrFmjF154Qfv379fcuXP1xhtv6Omnn3b0bdcDDzygkJAQde/eXZs2bdLPP/+sRYsWKTk5WZI0duxYvf/++xo/frx2796tvXv3asGCBRo9erTDx8CNj3ALOCAuLk6jRo3S008/rZYtW+rw4cPq27ev3a+xSlNERIQ6depkN0VOIXd3d/3222965JFHVL9+ffXq1UtdunTR+PHji/T18PDQRx99pEaNGunuu+9mfBhQjqxWq6xW61XXv/jii4qNjdXDDz+sli1b6uDBg1q5cqVuueUWSb8PK1i0aJE+//xzNWvWTLNnz9bkyZPt9tG0aVNt2LBB+/fvV4cOHdSiRQuNHTvWbthTce69914NHTpUiYmJat68uTZv3mybRaFQbGysOnfurLvuukuBgYH66KOPZLFY9NVXX+mOO+7Qo48+qvr166tPnz46evSogoODr3q8f/7zn1q1apV+/fVX/eMf/1CDBg302GOPyWq12sJry5Yt9fHHH2vBggVq3Lixxo4dqwkTJjj14AtPT0+tWrVKQUFB6tq1q5o0aaIXX3zR9h+M6OhoLVu2TKtWrdKf//xntW3bVtOmTVOtWrUcPgZufBbDMAxXFwFURH//+98VEhKiDz74wNWlAACA/48vlAEOOHv2rGbPnq3o6Gi5u7vro48+0tdff233oAUAAOB63LkFHHDu3Dndc889+uGHH3T+/HndfvvtGj16dLHfuAUAAK5DuAUAAIBp8IUyAAAAmAbhFgAAAKZBuAUAAIBpEG4BAABgGoRbAAAAmAbhFgBc4MiRI7JYLEpJSSnVvjeS8PBwTZ8+3dVlALjJEG4BoJT17dtXFotFFotFlSpVUu3atfXMM8/o/Pnztj5hYWE6fvy4GjduXCY1PP/882revHmZ7BsAbmQ8oQwAykDnzp01Z84cXbhwQdu3b1d8fLwsFoteeuklSZK7u7tCQkJcXCUAmA93bgGgDHh5eSkkJERhYWHq3r27oqKi7B7XfOVQg1OnTikuLk6BgYHy8fFRvXr1NGfOnGL3fenSJfXr108NGjRQampqieo7duyYevXqJX9/fwUEBOi+++7TkSNHJEmrVq2St7e3srKy7LZ56qmndPfdd9tef/vtt+rQoYN8fHwUFhamwYMH68yZMyWqBwBKC+EWAMrYf//7X23evFmenp5X7TNmzBjt2bNHy5cv1969ezVr1izdeuutRfrl5eXp/vvvV0pKir755hvVrFnT6XouXLig6OhoVa1aVd988402bdqkKlWqqHPnzsrPz1fHjh3l7++vRYsW2ba5dOmSFi5cqLi4OEnSoUOH1LlzZ8XGxurHH3/UwoUL9e233yoxMdHpegCgNDEsAQDKwLJly1SlShVdvHhReXl5cnNz0xtvvHHV/qmpqWrRooVat24t6fcvY10pNzdXMTExysvL07p16+Tn51ei2hYuXKiCggK98847slgskqQ5c+bI399f69evV6dOndSnTx/Nnz9f/fv3lyStWbNGWVlZio2NlSRNmTJFcXFxGjJkiCSpXr16mjFjhu68807NmjVL3t7eJaoNAK4X4RYAysBdd92lWbNm6cyZM5o2bZo8PDxswbA4gwYNUmxsrHbs2KFOnTqpe/fu+utf/2rX54EHHlCNGjW0du1a+fj4lLi2nTt36uDBg6patapd+/nz53Xo0CFJUlxcnNq2bau0tDSFhoZq3rx5iomJkb+/v20fP/74o+bNm2fb3jAMFRQU6PDhw2rYsGGJ6wOA68GwBAAoA76+vqpbt66aNWum9957T1u2bNG777571f5dunTR0aNHNXToUKWlpaljx456+umn7fp07dpVP/74o5KTk6+rttzcXLVq1UopKSl2y/79+/Xggw9Kkv785z+rTp06WrBggc6dO6fPPvvMNiShcB+PP/643fY7d+7UgQMHVKdOneuqDwCuB3duAaCMubm56V//+peGDRumBx988Kp3XQMDAxUfH6/4+Hh16NBBI0aM0Msvv2xbP2jQIDVu3Fj33nuvvvzyS915550lqqdly5ZauHChgoKCZLVar9ovLi5O8+bNU40aNeTm5qaYmBi7fezZs0d169YtUQ0AUFa4cwsA5eD++++Xu7u7Zs6cWez6sWPHasmSJTp48KB2796tZcuWFfur/SeffFITJ05Ut27d9O23317zmOfOnStyd/bQoUOKi4vTrbfeqvvuu0/ffPONDh8+rPXr12vw4MH65ZdfbNvHxcVpx44dmjRpknr27CkvLy/bupEjR2rz5s1KTExUSkqKDhw4oCVLlvCFMgAux51bACgHHh4eSkxM1NSpUzVo0KAi6z09PTVq1CgdOXJEPj4+6tChgxYsWFDsvoYMGaKCggJ17dpVK1asKDI2t9D+/fvVokULu7aOHTvq66+/1saNGzVy5Ej16NFDp0+f1m233aaOHTva3cmtW7eu/vKXv2jr1q1FnjTWtGlTbdiwQc8995w6dOggwzBUp04d9e7d28l3BgBKl8UwDMPVRQAAAAClgWEJAAAAMA3CLQAAAEyDcAsAAADTINwCAADANAi3AAAAMA3CLQAAAEyDcAsAAADTINwCAADANAi3AAAAMA3CLQAAAEyDcAsAAADT+H+hBcDzwpkaJwAAAABJRU5ErkJggg==\n"
          },
          "metadata": {}
        },
        {
          "output_type": "display_data",
          "data": {
            "text/plain": [
              "<Figure size 640x480 with 1 Axes>"
            ],
            "image/png": "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\n"
          },
          "metadata": {}
        },
        {
          "output_type": "display_data",
          "data": {
            "text/plain": [
              "<folium.folium.Map at 0x7d777bb0ef10>"
            ],
            "text/html": [
              "<div style=\"width:100%;\"><div style=\"position:relative;width:100%;height:0;padding-bottom:60%;\"><span style=\"color:#565656\">Make this Notebook Trusted to load map: File -> Trust Notebook</span><iframe srcdoc=\"&lt;!DOCTYPE html&gt;\n",
              "&lt;html&gt;\n",
              "&lt;head&gt;\n",
              "    \n",
              "    &lt;meta http-equiv=&quot;content-type&quot; content=&quot;text/html; charset=UTF-8&quot; /&gt;\n",
              "    \n",
              "        &lt;script&gt;\n",
              "            L_NO_TOUCH = false;\n",
              "            L_DISABLE_3D = false;\n",
              "        &lt;/script&gt;\n",
              "    \n",
              "    &lt;style&gt;html, body {width: 100%;height: 100%;margin: 0;padding: 0;}&lt;/style&gt;\n",
              "    &lt;style&gt;#map {position:absolute;top:0;bottom:0;right:0;left:0;}&lt;/style&gt;\n",
              "    &lt;script src=&quot;https://cdn.jsdelivr.net/npm/leaflet@1.9.3/dist/leaflet.js&quot;&gt;&lt;/script&gt;\n",
              "    &lt;script src=&quot;https://code.jquery.com/jquery-3.7.1.min.js&quot;&gt;&lt;/script&gt;\n",
              "    &lt;script src=&quot;https://cdn.jsdelivr.net/npm/bootstrap@5.2.2/dist/js/bootstrap.bundle.min.js&quot;&gt;&lt;/script&gt;\n",
              "    &lt;script src=&quot;https://cdnjs.cloudflare.com/ajax/libs/Leaflet.awesome-markers/2.0.2/leaflet.awesome-markers.js&quot;&gt;&lt;/script&gt;\n",
              "    &lt;link rel=&quot;stylesheet&quot; href=&quot;https://cdn.jsdelivr.net/npm/leaflet@1.9.3/dist/leaflet.css&quot;/&gt;\n",
              "    &lt;link rel=&quot;stylesheet&quot; href=&quot;https://cdn.jsdelivr.net/npm/bootstrap@5.2.2/dist/css/bootstrap.min.css&quot;/&gt;\n",
              "    &lt;link rel=&quot;stylesheet&quot; href=&quot;https://netdna.bootstrapcdn.com/bootstrap/3.0.0/css/bootstrap-glyphicons.css&quot;/&gt;\n",
              "    &lt;link rel=&quot;stylesheet&quot; href=&quot;https://cdn.jsdelivr.net/npm/@fortawesome/fontawesome-free@6.2.0/css/all.min.css&quot;/&gt;\n",
              "    &lt;link rel=&quot;stylesheet&quot; href=&quot;https://cdnjs.cloudflare.com/ajax/libs/Leaflet.awesome-markers/2.0.2/leaflet.awesome-markers.css&quot;/&gt;\n",
              "    &lt;link rel=&quot;stylesheet&quot; href=&quot;https://cdn.jsdelivr.net/gh/python-visualization/folium/folium/templates/leaflet.awesome.rotate.min.css&quot;/&gt;\n",
              "    \n",
              "            &lt;meta name=&quot;viewport&quot; content=&quot;width=device-width,\n",
              "                initial-scale=1.0, maximum-scale=1.0, user-scalable=no&quot; /&gt;\n",
              "            &lt;style&gt;\n",
              "                #map_9c36e8c8f82b5b0ab8c2b8700a2eef21 {\n",
              "                    position: relative;\n",
              "                    width: 100.0%;\n",
              "                    height: 100.0%;\n",
              "                    left: 0.0%;\n",
              "                    top: 0.0%;\n",
              "                }\n",
              "                .leaflet-container { font-size: 1rem; }\n",
              "            &lt;/style&gt;\n",
              "        \n",
              "    &lt;script src=&quot;https://cdn.jsdelivr.net/gh/python-visualization/folium@main/folium/templates/leaflet_heat.min.js&quot;&gt;&lt;/script&gt;\n",
              "&lt;/head&gt;\n",
              "&lt;body&gt;\n",
              "    \n",
              "    \n",
              "            &lt;div class=&quot;folium-map&quot; id=&quot;map_9c36e8c8f82b5b0ab8c2b8700a2eef21&quot; &gt;&lt;/div&gt;\n",
              "        \n",
              "&lt;/body&gt;\n",
              "&lt;script&gt;\n",
              "    \n",
              "    \n",
              "            var map_9c36e8c8f82b5b0ab8c2b8700a2eef21 = L.map(\n",
              "                &quot;map_9c36e8c8f82b5b0ab8c2b8700a2eef21&quot;,\n",
              "                {\n",
              "                    center: [20.0, 0.0],\n",
              "                    crs: L.CRS.EPSG3857,\n",
              "                    ...{\n",
              "  &quot;zoom&quot;: 2,\n",
              "  &quot;zoomControl&quot;: true,\n",
              "  &quot;preferCanvas&quot;: false,\n",
              "}\n",
              "\n",
              "                }\n",
              "            );\n",
              "\n",
              "            \n",
              "\n",
              "        \n",
              "    \n",
              "            var tile_layer_5562cb87bbddf75b2ab8c34ad85c84b1 = L.tileLayer(\n",
              "                &quot;https://tile.openstreetmap.org/{z}/{x}/{y}.png&quot;,\n",
              "                {\n",
              "  &quot;minZoom&quot;: 0,\n",
              "  &quot;maxZoom&quot;: 19,\n",
              "  &quot;maxNativeZoom&quot;: 19,\n",
              "  &quot;noWrap&quot;: false,\n",
              "  &quot;attribution&quot;: &quot;\\u0026copy; \\u003ca href=\\&quot;https://www.openstreetmap.org/copyright\\&quot;\\u003eOpenStreetMap\\u003c/a\\u003e contributors&quot;,\n",
              "  &quot;subdomains&quot;: &quot;abc&quot;,\n",
              "  &quot;detectRetina&quot;: false,\n",
              "  &quot;tms&quot;: false,\n",
              "  &quot;opacity&quot;: 1,\n",
              "}\n",
              "\n",
              "            );\n",
              "        \n",
              "    \n",
              "            tile_layer_5562cb87bbddf75b2ab8c34ad85c84b1.addTo(map_9c36e8c8f82b5b0ab8c2b8700a2eef21);\n",
              "        \n",
              "    \n",
              "            var heat_map_46ee30c52f07cfdbb8064b48378d0b68 = L.heatLayer(\n",
              "                [[47.1817585, 19.5060937], [43.6211955, -84.6824346], [44.1784082, -77.3919652], [48.8351638, 2.3609876], [36.5748441, 139.2394179], [7.5554942, 80.7137847], [40.7127281, -74.0060152], [42.4347571, -83.9849477], [39.7837304, -100.445882], [6.3110548, 20.5447525], [6.3110548, 20.5447525], [4.5693754, 102.2656823], [6.3110548, 20.5447525], [36.7014631, -118.755997], [8.0018709, -66.1109318], [46.603354, 1.8883335], [22.3511148, 78.6677428], [23.6585116, -102.0077097], [44.4308975, -89.6884637], [46.603354, 1.8883335], [33.2002659, -95.2231752], [51.1638175, 10.4478313], [61.0666922, -107.991707], [48.8351638, 2.3609876], [45.8889285, 6.2376659], [46.603354, 1.8883335], [53.4071991, -2.99168], [39.7837304, -100.445882], [27.3365805, -82.5308545], [27.7567667, -81.4639835], [22.3511148, 78.6677428], [31.161862, 77.5101328], [22.3511148, 78.6677428], [51.097907, 9.423253980355135], [39.7837304, -100.445882], [39.7837304, -100.445882], [48.761507, 8.2420863], [31.2638905, -98.5456116], [41.3198891, -81.62656145], [46.7985624, 8.2319736], [27.7567667, -81.4639835], [34.395342, -111.763275], [23.2436683, 72.503355], [31.2638905, -98.5456116], [48.1499855, 11.4427019], [27.3365805, -82.5308545], [39.294076, 35.2316631], [61.0666922, -107.991707], [31.161862, 77.5101328], [39.7837304, -100.445882], [39.7837304, -100.445882], [35.2048883, -92.4479108], [31.2638905, -98.5456116], [31.2638905, -98.5456116], [21.373912, -77.9124073], [39.294076, 35.2316631], [31.161862, 77.5101328], [31.161862, 77.5101328], [31.161862, 77.5101328], [31.161862, 77.5101328], [39.294076, 35.2316631], [31.161862, 77.5101328], [39.294076, 35.2316631], [31.161862, 77.5101328], [52.2434979, 5.6343227], [42.6384261, 12.674297], [31.161862, 77.5101328], [27.7567667, -81.4639835], [36.2533896, -115.2794366262601], [40.7127281, -74.0060152], [63.2467777, 25.9209164]],\n",
              "                {\n",
              "  &quot;minOpacity&quot;: 0.5,\n",
              "  &quot;maxZoom&quot;: 18,\n",
              "  &quot;radius&quot;: 25,\n",
              "  &quot;blur&quot;: 15,\n",
              "}\n",
              "            );\n",
              "        \n",
              "    \n",
              "            heat_map_46ee30c52f07cfdbb8064b48378d0b68.addTo(map_9c36e8c8f82b5b0ab8c2b8700a2eef21);\n",
              "        \n",
              "&lt;/script&gt;\n",
              "&lt;/html&gt;\" style=\"position:absolute;width:100%;height:100%;left:0;top:0;border:none !important;\" allowfullscreen webkitallowfullscreen mozallowfullscreen></iframe></div></div>"
            ]
          },
          "metadata": {}
        }
      ]
    }
  ],
  "metadata": {
    "colab": {
      "provenance": []
    },
    "language_info": {
      "name": "python"
    },
    "kernelspec": {
      "name": "python3",
      "display_name": "Python 3"
    }
  },
  "nbformat": 4,
  "nbformat_minor": 5
 "trusted": true
}
